{
 "cells": [
  {
   "cell_type": "code",
   "execution_count": 4,
   "metadata": {},
   "outputs": [
    {
     "name": "stderr",
     "output_type": "stream",
     "text": [
      "Using TensorFlow backend.\n"
     ]
    },
    {
     "ename": "ModuleNotFoundError",
     "evalue": "No module named 'tensorflow'",
     "output_type": "error",
     "traceback": [
      "\u001b[1;31m---------------------------------------------------------------------------\u001b[0m",
      "\u001b[1;31mModuleNotFoundError\u001b[0m                       Traceback (most recent call last)",
      "\u001b[1;32m<ipython-input-4-c19b151d0059>\u001b[0m in \u001b[0;36m<module>\u001b[1;34m\u001b[0m\n\u001b[0;32m      4\u001b[0m \u001b[1;32mimport\u001b[0m \u001b[0mpandas\u001b[0m\u001b[1;33m\u001b[0m\u001b[1;33m\u001b[0m\u001b[0m\n\u001b[0;32m      5\u001b[0m \u001b[1;32mimport\u001b[0m \u001b[0mmath\u001b[0m\u001b[1;33m\u001b[0m\u001b[1;33m\u001b[0m\u001b[0m\n\u001b[1;32m----> 6\u001b[1;33m \u001b[1;32mfrom\u001b[0m \u001b[0mkeras\u001b[0m\u001b[1;33m.\u001b[0m\u001b[0mmodels\u001b[0m \u001b[1;32mimport\u001b[0m \u001b[0mSequential\u001b[0m\u001b[1;33m\u001b[0m\u001b[1;33m\u001b[0m\u001b[0m\n\u001b[0m\u001b[0;32m      7\u001b[0m \u001b[1;32mfrom\u001b[0m \u001b[0mkeras\u001b[0m\u001b[1;33m.\u001b[0m\u001b[0mlayers\u001b[0m \u001b[1;32mimport\u001b[0m \u001b[0mDense\u001b[0m\u001b[1;33m\u001b[0m\u001b[1;33m\u001b[0m\u001b[0m\n\u001b[0;32m      8\u001b[0m \u001b[1;32mfrom\u001b[0m \u001b[0mkeras\u001b[0m\u001b[1;33m.\u001b[0m\u001b[0mlayers\u001b[0m \u001b[1;32mimport\u001b[0m \u001b[0mLSTM\u001b[0m\u001b[1;33m\u001b[0m\u001b[1;33m\u001b[0m\u001b[0m\n",
      "\u001b[1;32m~\\.conda\\envs\\Imagebox\\lib\\site-packages\\keras\\__init__.py\u001b[0m in \u001b[0;36m<module>\u001b[1;34m\u001b[0m\n\u001b[0;32m      1\u001b[0m \u001b[1;32mfrom\u001b[0m \u001b[0m__future__\u001b[0m \u001b[1;32mimport\u001b[0m \u001b[0mabsolute_import\u001b[0m\u001b[1;33m\u001b[0m\u001b[1;33m\u001b[0m\u001b[0m\n\u001b[0;32m      2\u001b[0m \u001b[1;33m\u001b[0m\u001b[0m\n\u001b[1;32m----> 3\u001b[1;33m \u001b[1;32mfrom\u001b[0m \u001b[1;33m.\u001b[0m \u001b[1;32mimport\u001b[0m \u001b[0mutils\u001b[0m\u001b[1;33m\u001b[0m\u001b[1;33m\u001b[0m\u001b[0m\n\u001b[0m\u001b[0;32m      4\u001b[0m \u001b[1;32mfrom\u001b[0m \u001b[1;33m.\u001b[0m \u001b[1;32mimport\u001b[0m \u001b[0mactivations\u001b[0m\u001b[1;33m\u001b[0m\u001b[1;33m\u001b[0m\u001b[0m\n\u001b[0;32m      5\u001b[0m \u001b[1;32mfrom\u001b[0m \u001b[1;33m.\u001b[0m \u001b[1;32mimport\u001b[0m \u001b[0mapplications\u001b[0m\u001b[1;33m\u001b[0m\u001b[1;33m\u001b[0m\u001b[0m\n",
      "\u001b[1;32m~\\.conda\\envs\\Imagebox\\lib\\site-packages\\keras\\utils\\__init__.py\u001b[0m in \u001b[0;36m<module>\u001b[1;34m\u001b[0m\n\u001b[0;32m      4\u001b[0m \u001b[1;32mfrom\u001b[0m \u001b[1;33m.\u001b[0m \u001b[1;32mimport\u001b[0m \u001b[0mdata_utils\u001b[0m\u001b[1;33m\u001b[0m\u001b[1;33m\u001b[0m\u001b[0m\n\u001b[0;32m      5\u001b[0m \u001b[1;32mfrom\u001b[0m \u001b[1;33m.\u001b[0m \u001b[1;32mimport\u001b[0m \u001b[0mio_utils\u001b[0m\u001b[1;33m\u001b[0m\u001b[1;33m\u001b[0m\u001b[0m\n\u001b[1;32m----> 6\u001b[1;33m \u001b[1;32mfrom\u001b[0m \u001b[1;33m.\u001b[0m \u001b[1;32mimport\u001b[0m \u001b[0mconv_utils\u001b[0m\u001b[1;33m\u001b[0m\u001b[1;33m\u001b[0m\u001b[0m\n\u001b[0m\u001b[0;32m      7\u001b[0m \u001b[1;33m\u001b[0m\u001b[0m\n\u001b[0;32m      8\u001b[0m \u001b[1;31m# Globally-importable utils.\u001b[0m\u001b[1;33m\u001b[0m\u001b[1;33m\u001b[0m\u001b[1;33m\u001b[0m\u001b[0m\n",
      "\u001b[1;32m~\\.conda\\envs\\Imagebox\\lib\\site-packages\\keras\\utils\\conv_utils.py\u001b[0m in \u001b[0;36m<module>\u001b[1;34m\u001b[0m\n\u001b[0;32m      7\u001b[0m \u001b[1;32mfrom\u001b[0m \u001b[0msix\u001b[0m\u001b[1;33m.\u001b[0m\u001b[0mmoves\u001b[0m \u001b[1;32mimport\u001b[0m \u001b[0mrange\u001b[0m\u001b[1;33m\u001b[0m\u001b[1;33m\u001b[0m\u001b[0m\n\u001b[0;32m      8\u001b[0m \u001b[1;32mimport\u001b[0m \u001b[0mnumpy\u001b[0m \u001b[1;32mas\u001b[0m \u001b[0mnp\u001b[0m\u001b[1;33m\u001b[0m\u001b[1;33m\u001b[0m\u001b[0m\n\u001b[1;32m----> 9\u001b[1;33m \u001b[1;32mfrom\u001b[0m \u001b[1;33m.\u001b[0m\u001b[1;33m.\u001b[0m \u001b[1;32mimport\u001b[0m \u001b[0mbackend\u001b[0m \u001b[1;32mas\u001b[0m \u001b[0mK\u001b[0m\u001b[1;33m\u001b[0m\u001b[1;33m\u001b[0m\u001b[0m\n\u001b[0m\u001b[0;32m     10\u001b[0m \u001b[1;33m\u001b[0m\u001b[0m\n\u001b[0;32m     11\u001b[0m \u001b[1;33m\u001b[0m\u001b[0m\n",
      "\u001b[1;32m~\\.conda\\envs\\Imagebox\\lib\\site-packages\\keras\\backend\\__init__.py\u001b[0m in \u001b[0;36m<module>\u001b[1;34m\u001b[0m\n\u001b[0;32m     87\u001b[0m \u001b[1;32melif\u001b[0m \u001b[0m_BACKEND\u001b[0m \u001b[1;33m==\u001b[0m \u001b[1;34m'tensorflow'\u001b[0m\u001b[1;33m:\u001b[0m\u001b[1;33m\u001b[0m\u001b[1;33m\u001b[0m\u001b[0m\n\u001b[0;32m     88\u001b[0m     \u001b[0msys\u001b[0m\u001b[1;33m.\u001b[0m\u001b[0mstderr\u001b[0m\u001b[1;33m.\u001b[0m\u001b[0mwrite\u001b[0m\u001b[1;33m(\u001b[0m\u001b[1;34m'Using TensorFlow backend.\\n'\u001b[0m\u001b[1;33m)\u001b[0m\u001b[1;33m\u001b[0m\u001b[1;33m\u001b[0m\u001b[0m\n\u001b[1;32m---> 89\u001b[1;33m     \u001b[1;32mfrom\u001b[0m \u001b[1;33m.\u001b[0m\u001b[0mtensorflow_backend\u001b[0m \u001b[1;32mimport\u001b[0m \u001b[1;33m*\u001b[0m\u001b[1;33m\u001b[0m\u001b[1;33m\u001b[0m\u001b[0m\n\u001b[0m\u001b[0;32m     90\u001b[0m \u001b[1;32melse\u001b[0m\u001b[1;33m:\u001b[0m\u001b[1;33m\u001b[0m\u001b[1;33m\u001b[0m\u001b[0m\n\u001b[0;32m     91\u001b[0m     \u001b[1;31m# Try and load external backend.\u001b[0m\u001b[1;33m\u001b[0m\u001b[1;33m\u001b[0m\u001b[1;33m\u001b[0m\u001b[0m\n",
      "\u001b[1;32m~\\.conda\\envs\\Imagebox\\lib\\site-packages\\keras\\backend\\tensorflow_backend.py\u001b[0m in \u001b[0;36m<module>\u001b[1;34m\u001b[0m\n\u001b[0;32m      3\u001b[0m \u001b[1;32mfrom\u001b[0m \u001b[0m__future__\u001b[0m \u001b[1;32mimport\u001b[0m \u001b[0mprint_function\u001b[0m\u001b[1;33m\u001b[0m\u001b[1;33m\u001b[0m\u001b[0m\n\u001b[0;32m      4\u001b[0m \u001b[1;33m\u001b[0m\u001b[0m\n\u001b[1;32m----> 5\u001b[1;33m \u001b[1;32mimport\u001b[0m \u001b[0mtensorflow\u001b[0m \u001b[1;32mas\u001b[0m \u001b[0mtf\u001b[0m\u001b[1;33m\u001b[0m\u001b[1;33m\u001b[0m\u001b[0m\n\u001b[0m\u001b[0;32m      6\u001b[0m \u001b[1;32mfrom\u001b[0m \u001b[0mtensorflow\u001b[0m\u001b[1;33m.\u001b[0m\u001b[0mpython\u001b[0m\u001b[1;33m.\u001b[0m\u001b[0mframework\u001b[0m \u001b[1;32mimport\u001b[0m \u001b[0mops\u001b[0m \u001b[1;32mas\u001b[0m \u001b[0mtf_ops\u001b[0m\u001b[1;33m\u001b[0m\u001b[1;33m\u001b[0m\u001b[0m\n\u001b[0;32m      7\u001b[0m \u001b[1;32mfrom\u001b[0m \u001b[0mtensorflow\u001b[0m\u001b[1;33m.\u001b[0m\u001b[0mpython\u001b[0m\u001b[1;33m.\u001b[0m\u001b[0mtraining\u001b[0m \u001b[1;32mimport\u001b[0m \u001b[0mmoving_averages\u001b[0m\u001b[1;33m\u001b[0m\u001b[1;33m\u001b[0m\u001b[0m\n",
      "\u001b[1;31mModuleNotFoundError\u001b[0m: No module named 'tensorflow'"
     ]
    }
   ],
   "source": [
    "#https://machinelearningmastery.com/time-series-prediction-lstm-recurrent-neural-networks-python-keras/\n",
    "import numpy\n",
    "import matplotlib.pyplot as plt\n",
    "import pandas\n",
    "import math\n",
    "from keras.models import Sequential\n",
    "from keras.layers import Dense\n",
    "from keras.layers import LSTM\n",
    "from sklearn.preprocessing import MinMaxScaler\n",
    "from sklearn.metrics import mean_squared_error"
   ]
  },
  {
   "cell_type": "code",
   "execution_count": null,
   "metadata": {},
   "outputs": [],
   "source": [
    "# fix random seed for reproducibility\n",
    "numpy.random.seed(7)"
   ]
  },
  {
   "cell_type": "code",
   "execution_count": 49,
   "metadata": {},
   "outputs": [
    {
     "data": {
      "text/html": [
       "<div>\n",
       "<style scoped>\n",
       "    .dataframe tbody tr th:only-of-type {\n",
       "        vertical-align: middle;\n",
       "    }\n",
       "\n",
       "    .dataframe tbody tr th {\n",
       "        vertical-align: top;\n",
       "    }\n",
       "\n",
       "    .dataframe thead th {\n",
       "        text-align: right;\n",
       "    }\n",
       "</style>\n",
       "<table border=\"1\" class=\"dataframe\">\n",
       "  <thead>\n",
       "    <tr style=\"text-align: right;\">\n",
       "      <th></th>\n",
       "      <th>index</th>\n",
       "      <th>year</th>\n",
       "      <th>month</th>\n",
       "      <th>day</th>\n",
       "      <th>day of year</th>\n",
       "      <th>anomaly</th>\n",
       "    </tr>\n",
       "  </thead>\n",
       "  <tbody>\n",
       "    <tr>\n",
       "      <th>0</th>\n",
       "      <td>1880.001</td>\n",
       "      <td>1880</td>\n",
       "      <td>1</td>\n",
       "      <td>1</td>\n",
       "      <td>1</td>\n",
       "      <td>-0.786</td>\n",
       "    </tr>\n",
       "    <tr>\n",
       "      <th>1</th>\n",
       "      <td>1880.004</td>\n",
       "      <td>1880</td>\n",
       "      <td>1</td>\n",
       "      <td>2</td>\n",
       "      <td>2</td>\n",
       "      <td>-0.695</td>\n",
       "    </tr>\n",
       "    <tr>\n",
       "      <th>2</th>\n",
       "      <td>1880.007</td>\n",
       "      <td>1880</td>\n",
       "      <td>1</td>\n",
       "      <td>3</td>\n",
       "      <td>3</td>\n",
       "      <td>-0.783</td>\n",
       "    </tr>\n",
       "    <tr>\n",
       "      <th>3</th>\n",
       "      <td>1880.010</td>\n",
       "      <td>1880</td>\n",
       "      <td>1</td>\n",
       "      <td>4</td>\n",
       "      <td>4</td>\n",
       "      <td>-0.725</td>\n",
       "    </tr>\n",
       "    <tr>\n",
       "      <th>4</th>\n",
       "      <td>1880.012</td>\n",
       "      <td>1880</td>\n",
       "      <td>1</td>\n",
       "      <td>5</td>\n",
       "      <td>5</td>\n",
       "      <td>-0.802</td>\n",
       "    </tr>\n",
       "  </tbody>\n",
       "</table>\n",
       "</div>"
      ],
      "text/plain": [
       "      index  year  month  day  day of year  anomaly\n",
       "0  1880.001  1880      1    1            1   -0.786\n",
       "1  1880.004  1880      1    2            2   -0.695\n",
       "2  1880.007  1880      1    3            3   -0.783\n",
       "3  1880.010  1880      1    4            4   -0.725\n",
       "4  1880.012  1880      1    5            5   -0.802"
      ]
     },
     "execution_count": 49,
     "metadata": {},
     "output_type": "execute_result"
    }
   ],
   "source": [
    "import pandas as pd\n",
    "data=pd.read_csv('data.txt',delim_whitespace=True,header=None)\n",
    "data.columns=['index','year','month','day','day of year','anomaly']\n",
    "data.head()"
   ]
  },
  {
   "cell_type": "code",
   "execution_count": 50,
   "metadata": {},
   "outputs": [
    {
     "data": {
      "text/html": [
       "<div>\n",
       "<style scoped>\n",
       "    .dataframe tbody tr th:only-of-type {\n",
       "        vertical-align: middle;\n",
       "    }\n",
       "\n",
       "    .dataframe tbody tr th {\n",
       "        vertical-align: top;\n",
       "    }\n",
       "\n",
       "    .dataframe thead th {\n",
       "        text-align: right;\n",
       "    }\n",
       "</style>\n",
       "<table border=\"1\" class=\"dataframe\">\n",
       "  <thead>\n",
       "    <tr style=\"text-align: right;\">\n",
       "      <th></th>\n",
       "      <th>index</th>\n",
       "      <th>year</th>\n",
       "      <th>month</th>\n",
       "      <th>day</th>\n",
       "      <th>day of year</th>\n",
       "      <th>anomaly</th>\n",
       "      <th>avg_temp</th>\n",
       "    </tr>\n",
       "  </thead>\n",
       "  <tbody>\n",
       "    <tr>\n",
       "      <th>0</th>\n",
       "      <td>1880.001</td>\n",
       "      <td>1880</td>\n",
       "      <td>1</td>\n",
       "      <td>1</td>\n",
       "      <td>1</td>\n",
       "      <td>-0.786</td>\n",
       "      <td>7.214</td>\n",
       "    </tr>\n",
       "    <tr>\n",
       "      <th>1</th>\n",
       "      <td>1880.004</td>\n",
       "      <td>1880</td>\n",
       "      <td>1</td>\n",
       "      <td>2</td>\n",
       "      <td>2</td>\n",
       "      <td>-0.695</td>\n",
       "      <td>7.305</td>\n",
       "    </tr>\n",
       "    <tr>\n",
       "      <th>2</th>\n",
       "      <td>1880.007</td>\n",
       "      <td>1880</td>\n",
       "      <td>1</td>\n",
       "      <td>3</td>\n",
       "      <td>3</td>\n",
       "      <td>-0.783</td>\n",
       "      <td>7.217</td>\n",
       "    </tr>\n",
       "    <tr>\n",
       "      <th>3</th>\n",
       "      <td>1880.010</td>\n",
       "      <td>1880</td>\n",
       "      <td>1</td>\n",
       "      <td>4</td>\n",
       "      <td>4</td>\n",
       "      <td>-0.725</td>\n",
       "      <td>7.275</td>\n",
       "    </tr>\n",
       "    <tr>\n",
       "      <th>4</th>\n",
       "      <td>1880.012</td>\n",
       "      <td>1880</td>\n",
       "      <td>1</td>\n",
       "      <td>5</td>\n",
       "      <td>5</td>\n",
       "      <td>-0.802</td>\n",
       "      <td>7.198</td>\n",
       "    </tr>\n",
       "  </tbody>\n",
       "</table>\n",
       "</div>"
      ],
      "text/plain": [
       "      index  year  month  day  day of year  anomaly  avg_temp\n",
       "0  1880.001  1880      1    1            1   -0.786     7.214\n",
       "1  1880.004  1880      1    2            2   -0.695     7.305\n",
       "2  1880.007  1880      1    3            3   -0.783     7.217\n",
       "3  1880.010  1880      1    4            4   -0.725     7.275\n",
       "4  1880.012  1880      1    5            5   -0.802     7.198"
      ]
     },
     "execution_count": 50,
     "metadata": {},
     "output_type": "execute_result"
    }
   ],
   "source": [
    "data['avg_temp']=data['anomaly'].values+8\n",
    "data.head()"
   ]
  },
  {
   "cell_type": "code",
   "execution_count": 51,
   "metadata": {},
   "outputs": [
    {
     "data": {
      "text/plain": [
       "0    7.214\n",
       "1    7.305\n",
       "2    7.217\n",
       "3    7.275\n",
       "4    7.198\n",
       "Name: avg_temp, dtype: float64"
      ]
     },
     "execution_count": 51,
     "metadata": {},
     "output_type": "execute_result"
    }
   ],
   "source": [
    "dataframe=data['avg_temp']\n",
    "dataset = dataframe.values\n",
    "dataset = dataset.astype('float32')\n",
    "dataframe.head()"
   ]
  },
  {
   "cell_type": "code",
   "execution_count": 52,
   "metadata": {},
   "outputs": [
    {
     "data": {
      "text/plain": [
       "array([7.214, 7.305, 7.217, ..., 8.611, 8.636, 8.976], dtype=float32)"
      ]
     },
     "execution_count": 52,
     "metadata": {},
     "output_type": "execute_result"
    }
   ],
   "source": [
    "dataset"
   ]
  },
  {
   "cell_type": "code",
   "execution_count": 53,
   "metadata": {},
   "outputs": [
    {
     "data": {
      "text/plain": [
       "array([7.214, 7.305, 7.217, ..., 8.611, 8.636, 8.976], dtype=float32)"
      ]
     },
     "execution_count": 53,
     "metadata": {},
     "output_type": "execute_result"
    }
   ],
   "source": [
    "dataset.reshape(-1,1)\n",
    "dataset"
   ]
  },
  {
   "cell_type": "code",
   "execution_count": null,
   "metadata": {},
   "outputs": [],
   "source": [
    "# load the dataset\n",
    "dataframe = pandas.read_csv('NSE-BSE.csv', usecols=[5], engine='python', skipfooter=3)\n",
    "dataset = dataframe.values\n",
    "dataset = dataset.astype('float32')\n",
    "dataframe.head()"
   ]
  },
  {
   "cell_type": "code",
   "execution_count": null,
   "metadata": {},
   "outputs": [],
   "source": [
    "dataset"
   ]
  },
  {
   "cell_type": "code",
   "execution_count": 54,
   "metadata": {},
   "outputs": [
    {
     "data": {
      "text/plain": [
       "(50769, 1)"
      ]
     },
     "execution_count": 54,
     "metadata": {},
     "output_type": "execute_result"
    }
   ],
   "source": [
    "#Change array from 1D to 2D and take transpose\n",
    "a= dataset.reshape(1,-1) #Step1\n",
    "a=a.T\n",
    "a.shape"
   ]
  },
  {
   "cell_type": "code",
   "execution_count": 55,
   "metadata": {},
   "outputs": [
    {
     "data": {
      "text/plain": [
       "(50769, 1)"
      ]
     },
     "execution_count": 55,
     "metadata": {},
     "output_type": "execute_result"
    }
   ],
   "source": [
    "dataset=a\n",
    "dataset.shape"
   ]
  },
  {
   "cell_type": "code",
   "execution_count": 56,
   "metadata": {},
   "outputs": [
    {
     "data": {
      "text/plain": [
       "array([[7.214],\n",
       "       [7.305],\n",
       "       [7.217],\n",
       "       ...,\n",
       "       [8.611],\n",
       "       [8.636],\n",
       "       [8.976]], dtype=float32)"
      ]
     },
     "execution_count": 56,
     "metadata": {},
     "output_type": "execute_result"
    }
   ],
   "source": [
    "dataset"
   ]
  },
  {
   "cell_type": "code",
   "execution_count": 57,
   "metadata": {},
   "outputs": [
    {
     "data": {
      "text/plain": [
       "array([[0.3376487 ],\n",
       "       [0.35356885],\n",
       "       [0.33817357],\n",
       "       ...,\n",
       "       [0.5820504 ],\n",
       "       [0.58642405],\n",
       "       [0.64590615]], dtype=float32)"
      ]
     },
     "execution_count": 57,
     "metadata": {},
     "output_type": "execute_result"
    }
   ],
   "source": [
    "# normalize the dataset\n",
    "scaler = MinMaxScaler(feature_range=(0, 1))\n",
    "dataset = scaler.fit_transform(dataset)\n",
    "dataset"
   ]
  },
  {
   "cell_type": "code",
   "execution_count": 58,
   "metadata": {},
   "outputs": [
    {
     "name": "stdout",
     "output_type": "stream",
     "text": [
      "34015 16754\n"
     ]
    }
   ],
   "source": [
    "# split into train and test sets\n",
    "train_size = int(len(dataset) * 0.67)\n",
    "test_size = len(dataset) - train_size\n",
    "train, test = dataset[0:train_size,:], dataset[train_size:len(dataset),:]\n",
    "print(len(train), len(test))"
   ]
  },
  {
   "cell_type": "code",
   "execution_count": null,
   "metadata": {},
   "outputs": [],
   "source": [
    "test"
   ]
  },
  {
   "cell_type": "code",
   "execution_count": 59,
   "metadata": {},
   "outputs": [],
   "source": [
    "# convert an array of values into a dataset matrix\n",
    "def create_dataset(dataset, look_back=5):\n",
    "    dataX, dataY = [], []\n",
    "    for i in range(len(dataset)-look_back-1):\n",
    "        a = dataset[i:(i+look_back), 0]\n",
    "        dataX.append(a)\n",
    "        dataY.append(dataset[i + look_back, 0])\n",
    "    return numpy.array(dataX), numpy.array(dataY)"
   ]
  },
  {
   "cell_type": "code",
   "execution_count": null,
   "metadata": {},
   "outputs": [],
   "source": [
    "dataX"
   ]
  },
  {
   "cell_type": "code",
   "execution_count": null,
   "metadata": {},
   "outputs": [],
   "source": []
  },
  {
   "cell_type": "code",
   "execution_count": 60,
   "metadata": {},
   "outputs": [],
   "source": [
    "# reshape into X=t and Y=t+1\n",
    "look_back = 1\n",
    "trainX, trainY = create_dataset(train, look_back)\n",
    "testX, testY = create_dataset(test, look_back)"
   ]
  },
  {
   "cell_type": "code",
   "execution_count": 67,
   "metadata": {},
   "outputs": [
    {
     "data": {
      "text/plain": [
       "array([[[0.62508756]],\n",
       "\n",
       "       [[0.61966413]],\n",
       "\n",
       "       [[0.606893  ]],\n",
       "\n",
       "       ...,\n",
       "\n",
       "       [[0.6439819 ]],\n",
       "\n",
       "       [[0.6089924 ]],\n",
       "\n",
       "       [[0.5820504 ]]], dtype=float32)"
      ]
     },
     "execution_count": 67,
     "metadata": {},
     "output_type": "execute_result"
    }
   ],
   "source": [
    "testX"
   ]
  },
  {
   "cell_type": "code",
   "execution_count": 61,
   "metadata": {},
   "outputs": [],
   "source": [
    "# reshape input to be [samples, time steps, features]\n",
    "trainX = numpy.reshape(trainX, (trainX.shape[0], 1, trainX.shape[1]))\n",
    "testX = numpy.reshape(testX, (testX.shape[0], 1, testX.shape[1]))"
   ]
  },
  {
   "cell_type": "code",
   "execution_count": null,
   "metadata": {},
   "outputs": [],
   "source": [
    "trainX"
   ]
  },
  {
   "cell_type": "code",
   "execution_count": 62,
   "metadata": {},
   "outputs": [
    {
     "name": "stdout",
     "output_type": "stream",
     "text": [
      "Epoch 1/10\n",
      " - 2s - loss: 0.0322\n",
      "Epoch 2/10\n",
      " - 1s - loss: 0.0033\n",
      "Epoch 3/10\n",
      " - 1s - loss: 0.0027\n",
      "Epoch 4/10\n",
      " - 1s - loss: 0.0021\n",
      "Epoch 5/10\n",
      " - 1s - loss: 0.0015\n",
      "Epoch 6/10\n",
      " - 1s - loss: 0.0010\n",
      "Epoch 7/10\n",
      " - 1s - loss: 7.5393e-04\n",
      "Epoch 8/10\n",
      " - 1s - loss: 6.5773e-04\n",
      "Epoch 9/10\n",
      " - 1s - loss: 6.3380e-04\n",
      "Epoch 10/10\n",
      " - 1s - loss: 6.2990e-04\n"
     ]
    },
    {
     "data": {
      "text/plain": [
       "<keras.callbacks.History at 0x2c2b98067b8>"
      ]
     },
     "execution_count": 62,
     "metadata": {},
     "output_type": "execute_result"
    }
   ],
   "source": [
    "# create and fit the LSTM network\n",
    "model = Sequential()\n",
    "model.add(LSTM(4, input_shape=(1, look_back)))\n",
    "model.add(Dense(1))\n",
    "model.compile(loss='mean_squared_error', optimizer='adam')\n",
    "model.fit(trainX, trainY, epochs=10, batch_size=100, verbose=2)"
   ]
  },
  {
   "cell_type": "code",
   "execution_count": 63,
   "metadata": {},
   "outputs": [
    {
     "name": "stdout",
     "output_type": "stream",
     "text": [
      "Train Score: 0.14 RMSE\n",
      "Test Score: 0.16 RMSE\n"
     ]
    }
   ],
   "source": [
    "# make predictions\n",
    "trainPredict = model.predict(trainX)\n",
    "testPredict = model.predict(testX)\n",
    "# invert predictions\n",
    "trainPredict = scaler.inverse_transform(trainPredict)\n",
    "trainY = scaler.inverse_transform([trainY])\n",
    "testPredict = scaler.inverse_transform(testPredict)\n",
    "testY = scaler.inverse_transform([testY])\n",
    "# calculate root mean squared error\n",
    "trainScore = math.sqrt(mean_squared_error(trainY[0], trainPredict[:,0]))\n",
    "print('Train Score: %.2f RMSE' % (trainScore))\n",
    "testScore = math.sqrt(mean_squared_error(testY[0], testPredict[:,0]))\n",
    "print('Test Score: %.2f RMSE' % (testScore))"
   ]
  },
  {
   "cell_type": "code",
   "execution_count": 64,
   "metadata": {},
   "outputs": [],
   "source": [
    "# shift train predictions for plotting\n",
    "trainPredictPlot = numpy.empty_like(dataset)\n",
    "trainPredictPlot[:, :] = numpy.nan\n",
    "trainPredictPlot[look_back:len(trainPredict)+look_back, :] = trainPredict\n",
    "# shift test predictions for plotting\n",
    "testPredictPlot = numpy.empty_like(dataset)\n",
    "testPredictPlot[:, :] = numpy.nan\n",
    "testPredictPlot[len(trainPredict)+(look_back*2)+1:len(dataset)-1, :] = testPredict\n",
    "# plot baseline and predictions\n"
   ]
  },
  {
   "cell_type": "code",
   "execution_count": 65,
   "metadata": {},
   "outputs": [
    {
     "data": {
      "image/png": "[encoded data removed]",
      "text/plain": [
       "<Figure size 1152x576 with 1 Axes>"
      ]
     },
     "metadata": {
      "needs_background": "light"
     },
     "output_type": "display_data"
    }
   ],
   "source": [
    "plt.figure(figsize=(16,8))\n",
    "\n",
    "plt.plot(scaler.inverse_transform(dataset))\n",
    "plt.plot(trainPredictPlot)\n",
    "plt.plot(testPredictPlot)\n",
    "plt.show()"
   ]
  },
  {
   "cell_type": "code",
   "execution_count": 71,
   "metadata": {},
   "outputs": [],
   "source": [
    "def moving_test_window_preds(n_future_preds):\n",
    "\n",
    "    ''' n_future_preds - Represents the number of future predictions we want to make\n",
    "                         This coincides with the number of windows that we will move forward\n",
    "                         on the test data\n",
    "    '''\n",
    "    preds_moving = []                                    # Use this to store the prediction made on each test window\n",
    "    moving_test_window = [testX[0,:].tolist()]          # Creating the first test window\n",
    "    moving_test_window = np.array(moving_test_window)    # Making it an numpy array\n",
    "    \n",
    "    for i in range(n_future_preds):\n",
    "        preds_one_step = model.predict(moving_test_window) # Note that this is already a scaled prediction so no need to rescale this\n",
    "        preds_moving.append(preds_one_step[0,0]) # get the value from the numpy 2D array and append to predictions\n",
    "        preds_one_step = preds_one_step.reshape(1,1,1) # Reshaping the prediction to 3D array for concatenation with moving test window\n",
    "        moving_test_window = np.concatenate((moving_test_window[:,1:,:], preds_one_step), axis=1) # This is the new moving test window, where the first element from the window has been removed and the prediction  has been appended to the end\n",
    "        \n",
    "    preds_moving = scaler.inverse_transform(preds_moving)\n",
    "    \n",
    "    return preds_moving"
   ]
  },
  {
   "cell_type": "code",
   "execution_count": 73,
   "metadata": {},
   "outputs": [
    {
     "ename": "ValueError",
     "evalue": "Expected 2D array, got 1D array instead:\narray=[0.62118959 0.61726886 0.61332756 0.60936803 0.60539275 0.60140413\n 0.5974046  0.59339708 0.5893842  0.58536875 0.58135349 0.57734168\n 0.57333612 0.56933999 0.56535643 0.56138843 0.55743921 0.55351192\n 0.54960966 0.5457356  0.54189283 0.53808445 0.53431338 0.53058261\n 0.52689499 0.5232532  0.51965988 0.51611763 0.51262891 0.50919592\n 0.50582093 0.50250572 0.49925238 0.49606252 0.49293765 0.48987919\n 0.48688835 0.48396608 0.48111328 0.47833067 0.47561881 0.472978\n 0.47040853 0.46791041 0.46548358 0.46312785 0.46084267 0.45862779\n 0.45648253 0.45440608 0.45239767 0.45045635 0.44858113 0.44677085\n 0.44502437 0.44334045 0.4417178  0.44015503 0.43865073 0.4372035\n 0.435812   0.43447459 0.43318987 0.43195632 0.43077239 0.42963669\n 0.4285475  0.4275035  0.42650309 0.42554486 0.42462739 0.42374918\n 0.42290881 0.42210492 0.4213362  0.42060128 0.41989887 0.41922778\n 0.4185867  0.41797444 0.41738987 0.41683182 0.41629925 0.41579109\n 0.4153063  0.41484386 0.41440284 0.41398239 0.41358149 0.41319939\n 0.41283524 0.41248819 0.41215757 0.41184253 0.41154248 0.4112567\n 0.41098455 0.41072533 0.41047856 0.41024363 0.41001996 0.40980709\n 0.40960452 0.4094117  0.40922821 0.40905359 0.40888742 0.40872931\n 0.40857893 0.40843585 0.40829977 0.40817025 0.40804711 0.40793002\n 0.40781859 0.40771261 0.40761185 0.40751594 0.40742484 0.4073382\n 0.40725583 0.40717745 0.40710294 0.40703207 0.40696475 0.40690073\n 0.40683988 0.406782   0.40672702 0.40667474 0.40662503 0.40657774\n 0.40653282 0.40649012 0.4064495  0.40641087 0.40637425 0.40633941\n 0.40630624 0.40627474 0.40624481 0.40621632 0.40618926 0.40616354\n 0.40613914 0.40611592 0.40609381 0.40607285 0.40605292 0.40603399\n 0.40601599 0.40599886 0.40598258 0.40596712 0.40595242 0.40593842\n 0.40592512 0.40591255 0.40590057 0.40588915 0.40587837 0.40586808\n 0.40585828 0.40584898 0.40584016 0.40583175 0.4058238  0.40581617\n 0.40580896 0.40580216 0.40579569 0.40578952 0.40578368 0.40577808\n 0.40577278 0.40576774 0.40576291 0.40575838 0.40575406 0.40574995\n 0.40574607 0.40574238 0.40573886 0.40573555 0.40573236 0.40572932\n 0.40572649 0.40572381 0.40572119 0.40571871 0.40571636 0.40571409\n 0.40571198 0.40570992 0.40570801 0.4057062  0.40570447 0.40570283\n 0.40570125 0.40569976 0.40569836 0.40569699 0.40569574 0.40569454\n 0.40569341 0.40569228 0.40569127 0.40569028 0.40568936 0.40568849\n 0.40568763 0.40568686 0.40568608 0.40568537 0.40568465 0.40568402\n 0.40568343 0.40568283 0.40568227 0.40568176 0.40568128 0.40568081\n 0.40568033 0.40567991 0.40567943 0.40567908 0.40567872 0.40567833\n 0.405678   0.40567765 0.40567732 0.40567708 0.40567681 0.40567657\n 0.40567631 0.40567607 0.40567586 0.40567565 0.40567544 0.40567523\n 0.40567505 0.4056749  0.4056747  0.40567455 0.40567437 0.40567419\n 0.40567407 0.40567392 0.40567386 0.40567377 0.40567365 0.40567356\n 0.40567344 0.40567335 0.40567324 0.40567318 0.40567306 0.405673\n 0.40567294 0.40567291 0.40567288 0.40567282 0.40567279 0.40567279\n 0.40567279 0.40567279 0.40567279 0.40567279 0.40567279 0.40567279\n 0.40567279 0.40567279 0.40567279 0.40567279 0.40567279 0.40567279\n 0.40567279 0.40567279 0.40567279 0.40567279 0.40567279 0.40567279\n 0.40567279 0.40567279 0.40567279 0.40567279 0.40567279 0.40567279\n 0.40567279 0.40567279 0.40567279 0.40567279 0.40567279 0.40567279\n 0.40567279 0.40567279 0.40567279 0.40567279 0.40567279 0.40567279\n 0.40567279 0.40567279 0.40567279 0.40567279 0.40567279 0.40567279\n 0.40567279 0.40567279 0.40567279 0.40567279 0.40567279 0.40567279\n 0.40567279 0.40567279 0.40567279 0.40567279 0.40567279 0.40567279\n 0.40567279 0.40567279 0.40567279 0.40567279 0.40567279 0.40567279\n 0.40567279 0.40567279 0.40567279 0.40567279 0.40567279 0.40567279\n 0.40567279 0.40567279 0.40567279 0.40567279 0.40567279 0.40567279\n 0.40567279 0.40567279 0.40567279 0.40567279 0.40567279 0.40567279\n 0.40567279 0.40567279 0.40567279 0.40567279 0.40567279 0.40567279\n 0.40567279 0.40567279 0.40567279 0.40567279 0.40567279 0.40567279\n 0.40567279 0.40567279 0.40567279 0.40567279 0.40567279 0.40567279\n 0.40567279 0.40567279 0.40567279 0.40567279 0.40567279 0.40567279\n 0.40567279 0.40567279 0.40567279 0.40567279 0.40567279 0.40567279\n 0.40567279 0.40567279 0.40567279 0.40567279 0.40567279 0.40567279\n 0.40567279 0.40567279 0.40567279 0.40567279 0.40567279 0.40567279\n 0.40567279 0.40567279 0.40567279 0.40567279 0.40567279 0.40567279\n 0.40567279 0.40567279 0.40567279 0.40567279 0.40567279 0.40567279\n 0.40567279 0.40567279 0.40567279 0.40567279 0.40567279 0.40567279\n 0.40567279 0.40567279 0.40567279 0.40567279 0.40567279 0.40567279\n 0.40567279 0.40567279 0.40567279 0.40567279 0.40567279 0.40567279\n 0.40567279 0.40567279 0.40567279 0.40567279 0.40567279 0.40567279\n 0.40567279 0.40567279 0.40567279 0.40567279 0.40567279 0.40567279\n 0.40567279 0.40567279 0.40567279 0.40567279 0.40567279 0.40567279\n 0.40567279 0.40567279 0.40567279 0.40567279 0.40567279 0.40567279\n 0.40567279 0.40567279 0.40567279 0.40567279 0.40567279 0.40567279\n 0.40567279 0.40567279 0.40567279 0.40567279 0.40567279 0.40567279\n 0.40567279 0.40567279 0.40567279 0.40567279 0.40567279 0.40567279\n 0.40567279 0.40567279 0.40567279 0.40567279 0.40567279 0.40567279\n 0.40567279 0.40567279 0.40567279 0.40567279 0.40567279 0.40567279\n 0.40567279 0.40567279 0.40567279 0.40567279 0.40567279 0.40567279\n 0.40567279 0.40567279 0.40567279 0.40567279 0.40567279 0.40567279\n 0.40567279 0.40567279 0.40567279 0.40567279 0.40567279 0.40567279\n 0.40567279 0.40567279 0.40567279 0.40567279 0.40567279 0.40567279\n 0.40567279 0.40567279 0.40567279 0.40567279 0.40567279 0.40567279\n 0.40567279 0.40567279].\nReshape your data either using array.reshape(-1, 1) if your data has a single feature or array.reshape(1, -1) if it contains a single sample.",
     "output_type": "error",
     "traceback": [
      "\u001b[1;31m---------------------------------------------------------------------------\u001b[0m",
      "\u001b[1;31mValueError\u001b[0m                                Traceback (most recent call last)",
      "\u001b[1;32m<ipython-input-73-edb610de5a8a>\u001b[0m in \u001b[0;36m<module>\u001b[1;34m\u001b[0m\n\u001b[0;32m      1\u001b[0m \u001b[1;32mimport\u001b[0m \u001b[0mnumpy\u001b[0m \u001b[1;32mas\u001b[0m \u001b[0mnp\u001b[0m\u001b[1;33m\u001b[0m\u001b[1;33m\u001b[0m\u001b[0m\n\u001b[1;32m----> 2\u001b[1;33m \u001b[0mpreds_moving\u001b[0m \u001b[1;33m=\u001b[0m \u001b[0mmoving_test_window_preds\u001b[0m\u001b[1;33m(\u001b[0m\u001b[1;36m500\u001b[0m\u001b[1;33m)\u001b[0m\u001b[1;33m\u001b[0m\u001b[1;33m\u001b[0m\u001b[0m\n\u001b[0m",
      "\u001b[1;32m<ipython-input-71-33fa9d5993e7>\u001b[0m in \u001b[0;36mmoving_test_window_preds\u001b[1;34m(n_future_preds)\u001b[0m\n\u001b[0;32m     15\u001b[0m         \u001b[0mmoving_test_window\u001b[0m \u001b[1;33m=\u001b[0m \u001b[0mnp\u001b[0m\u001b[1;33m.\u001b[0m\u001b[0mconcatenate\u001b[0m\u001b[1;33m(\u001b[0m\u001b[1;33m(\u001b[0m\u001b[0mmoving_test_window\u001b[0m\u001b[1;33m[\u001b[0m\u001b[1;33m:\u001b[0m\u001b[1;33m,\u001b[0m\u001b[1;36m1\u001b[0m\u001b[1;33m:\u001b[0m\u001b[1;33m,\u001b[0m\u001b[1;33m:\u001b[0m\u001b[1;33m]\u001b[0m\u001b[1;33m,\u001b[0m \u001b[0mpreds_one_step\u001b[0m\u001b[1;33m)\u001b[0m\u001b[1;33m,\u001b[0m \u001b[0maxis\u001b[0m\u001b[1;33m=\u001b[0m\u001b[1;36m1\u001b[0m\u001b[1;33m)\u001b[0m \u001b[1;31m# This is the new moving test window, where the first element from the window has been removed and the prediction  has been appended to the end\u001b[0m\u001b[1;33m\u001b[0m\u001b[1;33m\u001b[0m\u001b[0m\n\u001b[0;32m     16\u001b[0m \u001b[1;33m\u001b[0m\u001b[0m\n\u001b[1;32m---> 17\u001b[1;33m     \u001b[0mpreds_moving\u001b[0m \u001b[1;33m=\u001b[0m \u001b[0mscaler\u001b[0m\u001b[1;33m.\u001b[0m\u001b[0minverse_transform\u001b[0m\u001b[1;33m(\u001b[0m\u001b[0mpreds_moving\u001b[0m\u001b[1;33m)\u001b[0m\u001b[1;33m\u001b[0m\u001b[1;33m\u001b[0m\u001b[0m\n\u001b[0m\u001b[0;32m     18\u001b[0m \u001b[1;33m\u001b[0m\u001b[0m\n\u001b[0;32m     19\u001b[0m     \u001b[1;32mreturn\u001b[0m \u001b[0mpreds_moving\u001b[0m\u001b[1;33m\u001b[0m\u001b[1;33m\u001b[0m\u001b[0m\n",
      "\u001b[1;32m~\\AppData\\Local\\conda\\conda\\envs\\Imagebox\\lib\\site-packages\\sklearn\\preprocessing\\data.py\u001b[0m in \u001b[0;36minverse_transform\u001b[1;34m(self, X)\u001b[0m\n\u001b[0;32m    400\u001b[0m \u001b[1;33m\u001b[0m\u001b[0m\n\u001b[0;32m    401\u001b[0m         X = check_array(X, copy=self.copy, dtype=FLOAT_DTYPES,\n\u001b[1;32m--> 402\u001b[1;33m                         force_all_finite=\"allow-nan\")\n\u001b[0m\u001b[0;32m    403\u001b[0m \u001b[1;33m\u001b[0m\u001b[0m\n\u001b[0;32m    404\u001b[0m         \u001b[0mX\u001b[0m \u001b[1;33m-=\u001b[0m \u001b[0mself\u001b[0m\u001b[1;33m.\u001b[0m\u001b[0mmin_\u001b[0m\u001b[1;33m\u001b[0m\u001b[1;33m\u001b[0m\u001b[0m\n",
      "\u001b[1;32m~\\AppData\\Local\\conda\\conda\\envs\\Imagebox\\lib\\site-packages\\sklearn\\utils\\validation.py\u001b[0m in \u001b[0;36mcheck_array\u001b[1;34m(array, accept_sparse, accept_large_sparse, dtype, order, copy, force_all_finite, ensure_2d, allow_nd, ensure_min_samples, ensure_min_features, warn_on_dtype, estimator)\u001b[0m\n\u001b[0;32m    550\u001b[0m                     \u001b[1;34m\"Reshape your data either using array.reshape(-1, 1) if \"\u001b[0m\u001b[1;33m\u001b[0m\u001b[1;33m\u001b[0m\u001b[0m\n\u001b[0;32m    551\u001b[0m                     \u001b[1;34m\"your data has a single feature or array.reshape(1, -1) \"\u001b[0m\u001b[1;33m\u001b[0m\u001b[1;33m\u001b[0m\u001b[0m\n\u001b[1;32m--> 552\u001b[1;33m                     \"if it contains a single sample.\".format(array))\n\u001b[0m\u001b[0;32m    553\u001b[0m \u001b[1;33m\u001b[0m\u001b[0m\n\u001b[0;32m    554\u001b[0m         \u001b[1;31m# in the future np.flexible dtypes will be handled like object dtypes\u001b[0m\u001b[1;33m\u001b[0m\u001b[1;33m\u001b[0m\u001b[1;33m\u001b[0m\u001b[0m\n",
      "\u001b[1;31mValueError\u001b[0m: Expected 2D array, got 1D array instead:\narray=[0.62118959 0.61726886 0.61332756 0.60936803 0.60539275 0.60140413\n 0.5974046  0.59339708 0.5893842  0.58536875 0.58135349 0.57734168\n 0.57333612 0.56933999 0.56535643 0.56138843 0.55743921 0.55351192\n 0.54960966 0.5457356  0.54189283 0.53808445 0.53431338 0.53058261\n 0.52689499 0.5232532  0.51965988 0.51611763 0.51262891 0.50919592\n 0.50582093 0.50250572 0.49925238 0.49606252 0.49293765 0.48987919\n 0.48688835 0.48396608 0.48111328 0.47833067 0.47561881 0.472978\n 0.47040853 0.46791041 0.46548358 0.46312785 0.46084267 0.45862779\n 0.45648253 0.45440608 0.45239767 0.45045635 0.44858113 0.44677085\n 0.44502437 0.44334045 0.4417178  0.44015503 0.43865073 0.4372035\n 0.435812   0.43447459 0.43318987 0.43195632 0.43077239 0.42963669\n 0.4285475  0.4275035  0.42650309 0.42554486 0.42462739 0.42374918\n 0.42290881 0.42210492 0.4213362  0.42060128 0.41989887 0.41922778\n 0.4185867  0.41797444 0.41738987 0.41683182 0.41629925 0.41579109\n 0.4153063  0.41484386 0.41440284 0.41398239 0.41358149 0.41319939\n 0.41283524 0.41248819 0.41215757 0.41184253 0.41154248 0.4112567\n 0.41098455 0.41072533 0.41047856 0.41024363 0.41001996 0.40980709\n 0.40960452 0.4094117  0.40922821 0.40905359 0.40888742 0.40872931\n 0.40857893 0.40843585 0.40829977 0.40817025 0.40804711 0.40793002\n 0.40781859 0.40771261 0.40761185 0.40751594 0.40742484 0.4073382\n 0.40725583 0.40717745 0.40710294 0.40703207 0.40696475 0.40690073\n 0.40683988 0.406782   0.40672702 0.40667474 0.40662503 0.40657774\n 0.40653282 0.40649012 0.4064495  0.40641087 0.40637425 0.40633941\n 0.40630624 0.40627474 0.40624481 0.40621632 0.40618926 0.40616354\n 0.40613914 0.40611592 0.40609381 0.40607285 0.40605292 0.40603399\n 0.40601599 0.40599886 0.40598258 0.40596712 0.40595242 0.40593842\n 0.40592512 0.40591255 0.40590057 0.40588915 0.40587837 0.40586808\n 0.40585828 0.40584898 0.40584016 0.40583175 0.4058238  0.40581617\n 0.40580896 0.40580216 0.40579569 0.40578952 0.40578368 0.40577808\n 0.40577278 0.40576774 0.40576291 0.40575838 0.40575406 0.40574995\n 0.40574607 0.40574238 0.40573886 0.40573555 0.40573236 0.40572932\n 0.40572649 0.40572381 0.40572119 0.40571871 0.40571636 0.40571409\n 0.40571198 0.40570992 0.40570801 0.4057062  0.40570447 0.40570283\n 0.40570125 0.40569976 0.40569836 0.40569699 0.40569574 0.40569454\n 0.40569341 0.40569228 0.40569127 0.40569028 0.40568936 0.40568849\n 0.40568763 0.40568686 0.40568608 0.40568537 0.40568465 0.40568402\n 0.40568343 0.40568283 0.40568227 0.40568176 0.40568128 0.40568081\n 0.40568033 0.40567991 0.40567943 0.40567908 0.40567872 0.40567833\n 0.405678   0.40567765 0.40567732 0.40567708 0.40567681 0.40567657\n 0.40567631 0.40567607 0.40567586 0.40567565 0.40567544 0.40567523\n 0.40567505 0.4056749  0.4056747  0.40567455 0.40567437 0.40567419\n 0.40567407 0.40567392 0.40567386 0.40567377 0.40567365 0.40567356\n 0.40567344 0.40567335 0.40567324 0.40567318 0.40567306 0.405673\n 0.40567294 0.40567291 0.40567288 0.40567282 0.40567279 0.40567279\n 0.40567279 0.40567279 0.40567279 0.40567279 0.40567279 0.40567279\n 0.40567279 0.40567279 0.40567279 0.40567279 0.40567279 0.40567279\n 0.40567279 0.40567279 0.40567279 0.40567279 0.40567279 0.40567279\n 0.40567279 0.40567279 0.40567279 0.40567279 0.40567279 0.40567279\n 0.40567279 0.40567279 0.40567279 0.40567279 0.40567279 0.40567279\n 0.40567279 0.40567279 0.40567279 0.40567279 0.40567279 0.40567279\n 0.40567279 0.40567279 0.40567279 0.40567279 0.40567279 0.40567279\n 0.40567279 0.40567279 0.40567279 0.40567279 0.40567279 0.40567279\n 0.40567279 0.40567279 0.40567279 0.40567279 0.40567279 0.40567279\n 0.40567279 0.40567279 0.40567279 0.40567279 0.40567279 0.40567279\n 0.40567279 0.40567279 0.40567279 0.40567279 0.40567279 0.40567279\n 0.40567279 0.40567279 0.40567279 0.40567279 0.40567279 0.40567279\n 0.40567279 0.40567279 0.40567279 0.40567279 0.40567279 0.40567279\n 0.40567279 0.40567279 0.40567279 0.40567279 0.40567279 0.40567279\n 0.40567279 0.40567279 0.40567279 0.40567279 0.40567279 0.40567279\n 0.40567279 0.40567279 0.40567279 0.40567279 0.40567279 0.40567279\n 0.40567279 0.40567279 0.40567279 0.40567279 0.40567279 0.40567279\n 0.40567279 0.40567279 0.40567279 0.40567279 0.40567279 0.40567279\n 0.40567279 0.40567279 0.40567279 0.40567279 0.40567279 0.40567279\n 0.40567279 0.40567279 0.40567279 0.40567279 0.40567279 0.40567279\n 0.40567279 0.40567279 0.40567279 0.40567279 0.40567279 0.40567279\n 0.40567279 0.40567279 0.40567279 0.40567279 0.40567279 0.40567279\n 0.40567279 0.40567279 0.40567279 0.40567279 0.40567279 0.40567279\n 0.40567279 0.40567279 0.40567279 0.40567279 0.40567279 0.40567279\n 0.40567279 0.40567279 0.40567279 0.40567279 0.40567279 0.40567279\n 0.40567279 0.40567279 0.40567279 0.40567279 0.40567279 0.40567279\n 0.40567279 0.40567279 0.40567279 0.40567279 0.40567279 0.40567279\n 0.40567279 0.40567279 0.40567279 0.40567279 0.40567279 0.40567279\n 0.40567279 0.40567279 0.40567279 0.40567279 0.40567279 0.40567279\n 0.40567279 0.40567279 0.40567279 0.40567279 0.40567279 0.40567279\n 0.40567279 0.40567279 0.40567279 0.40567279 0.40567279 0.40567279\n 0.40567279 0.40567279 0.40567279 0.40567279 0.40567279 0.40567279\n 0.40567279 0.40567279 0.40567279 0.40567279 0.40567279 0.40567279\n 0.40567279 0.40567279 0.40567279 0.40567279 0.40567279 0.40567279\n 0.40567279 0.40567279 0.40567279 0.40567279 0.40567279 0.40567279\n 0.40567279 0.40567279 0.40567279 0.40567279 0.40567279 0.40567279\n 0.40567279 0.40567279 0.40567279 0.40567279 0.40567279 0.40567279\n 0.40567279 0.40567279 0.40567279 0.40567279 0.40567279 0.40567279\n 0.40567279 0.40567279 0.40567279 0.40567279 0.40567279 0.40567279\n 0.40567279 0.40567279].\nReshape your data either using array.reshape(-1, 1) if your data has a single feature or array.reshape(1, -1) if it contains a single sample."
     ]
    }
   ],
   "source": [
    "import numpy as np\n",
    "preds_moving = moving_test_window_preds(500)\n"
   ]
  },
  {
   "cell_type": "code",
   "execution_count": null,
   "metadata": {},
   "outputs": [],
   "source": []
  }
 ],
 "metadata": {
  "kernelspec": {
   "display_name": "Python 3",
   "language": "python",
   "name": "python3"
  },
  "language_info": {
   "codemirror_mode": {
    "name": "ipython",
    "version": 3
   },
   "file_extension": ".py",
   "mimetype": "text/x-python",
   "name": "python",
   "nbconvert_exporter": "python",
   "pygments_lexer": "ipython3",
   "version": "3.6.8"
  }
 },
 "nbformat": 4,
 "nbformat_minor": 2
}
