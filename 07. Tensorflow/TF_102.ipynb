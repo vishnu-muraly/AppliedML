{
  "nbformat": 4,
  "nbformat_minor": 0,
  "metadata": {
    "colab": {
      "name": "TF_102.ipynb",
      "provenance": [],
      "authorship_tag": "ABX9TyPRHlQfpN4BTSbDsm929gzo",
      "include_colab_link": true
    },
    "kernelspec": {
      "name": "python3",
      "display_name": "Python 3"
    }
  },
  "cells": [
    {
      "cell_type": "markdown",
      "metadata": {
        "id": "view-in-github",
        "colab_type": "text"
      },
      "source": [
        "<a href=\"https://colab.research.google.com/github/vishnumurly/AppliedAI/blob/master/TF_102.ipynb\" target=\"_parent\"><img src=\"https://colab.research.google.com/assets/colab-badge.svg\" alt=\"Open In Colab\"/></a>"
      ]
    },
    {
      "cell_type": "code",
      "metadata": {
        "id": "iYqE2Li-_C1u",
        "colab_type": "code",
        "colab": {}
      },
      "source": [
        "import tensorflow as tf"
      ],
      "execution_count": null,
      "outputs": []
    },
    {
      "cell_type": "markdown",
      "metadata": {
        "id": "wsHMsKuzFfIo",
        "colab_type": "text"
      },
      "source": [
        "#Constant"
      ]
    },
    {
      "cell_type": "code",
      "metadata": {
        "id": "G01RXe8t_GHb",
        "colab_type": "code",
        "colab": {
          "base_uri": "https://localhost:8080/",
          "height": 34
        },
        "outputId": "6caee924-7fc1-48c7-9e86-f6b51d6a022f"
      },
      "source": [
        "x=tf.constant(1.)\n",
        "print(x)"
      ],
      "execution_count": null,
      "outputs": [
        {
          "output_type": "stream",
          "text": [
            "tf.Tensor(1.0, shape=(), dtype=float32)\n"
          ],
          "name": "stdout"
        }
      ]
    },
    {
      "cell_type": "code",
      "metadata": {
        "id": "QCpCbW5U_2hk",
        "colab_type": "code",
        "colab": {
          "base_uri": "https://localhost:8080/",
          "height": 68
        },
        "outputId": "4e6b89e2-639e-47ca-f440-dc874724c1ac"
      },
      "source": [
        "y=tf.constant([[5,2],[3,1]])\n",
        "print(y)"
      ],
      "execution_count": null,
      "outputs": [
        {
          "output_type": "stream",
          "text": [
            "tf.Tensor(\n",
            "[[5 2]\n",
            " [3 1]], shape=(2, 2), dtype=int32)\n"
          ],
          "name": "stdout"
        }
      ]
    },
    {
      "cell_type": "code",
      "metadata": {
        "id": "S2_RgOzfBcnK",
        "colab_type": "code",
        "colab": {
          "base_uri": "https://localhost:8080/",
          "height": 51
        },
        "outputId": "005411ef-ef60-481b-941c-950ed53b3191"
      },
      "source": [
        "y.numpy()"
      ],
      "execution_count": null,
      "outputs": [
        {
          "output_type": "execute_result",
          "data": {
            "text/plain": [
              "array([[5, 2],\n",
              "       [3, 1]], dtype=int32)"
            ]
          },
          "metadata": {
            "tags": []
          },
          "execution_count": 7
        }
      ]
    },
    {
      "cell_type": "code",
      "metadata": {
        "id": "TKxNPJqxBqE9",
        "colab_type": "code",
        "colab": {
          "base_uri": "https://localhost:8080/",
          "height": 68
        },
        "outputId": "32d31193-865c-47d8-c0c1-fa27ed726bab"
      },
      "source": [
        "print(tf.ones(shape=(2,1)))"
      ],
      "execution_count": null,
      "outputs": [
        {
          "output_type": "stream",
          "text": [
            "tf.Tensor(\n",
            "[[1.]\n",
            " [1.]], shape=(2, 1), dtype=float32)\n"
          ],
          "name": "stdout"
        }
      ]
    },
    {
      "cell_type": "markdown",
      "metadata": {
        "id": "NpPmwcXtFpns",
        "colab_type": "text"
      },
      "source": [
        "#Arithemetic"
      ]
    },
    {
      "cell_type": "code",
      "metadata": {
        "id": "DrEXUNN0B_CD",
        "colab_type": "code",
        "colab": {
          "base_uri": "https://localhost:8080/",
          "height": 68
        },
        "outputId": "2931b201-cbb5-48d5-a661-c5f538b813f2"
      },
      "source": [
        "ini_val=tf.random.normal(shape=(2,2))\n",
        "a=tf.Variable(ini_val)\n",
        "print(a)"
      ],
      "execution_count": null,
      "outputs": [
        {
          "output_type": "stream",
          "text": [
            "<tf.Variable 'Variable:0' shape=(2, 2) dtype=float32, numpy=\n",
            "array([[ 1.2706231 ,  0.75031865],\n",
            "       [ 0.2082442 , -2.1609743 ]], dtype=float32)>\n"
          ],
          "name": "stdout"
        }
      ]
    },
    {
      "cell_type": "code",
      "metadata": {
        "id": "NqWAllZPCFr7",
        "colab_type": "code",
        "colab": {
          "base_uri": "https://localhost:8080/",
          "height": 68
        },
        "outputId": "4ebc1121-b0e2-41f7-d7ca-b9577762fd68"
      },
      "source": [
        "tf.random.uniform(shape=(2,2))"
      ],
      "execution_count": null,
      "outputs": [
        {
          "output_type": "execute_result",
          "data": {
            "text/plain": [
              "<tf.Tensor: shape=(2, 2), dtype=float32, numpy=\n",
              "array([[0.01766491, 0.00575244],\n",
              "       [0.9799454 , 0.96060693]], dtype=float32)>"
            ]
          },
          "metadata": {
            "tags": []
          },
          "execution_count": 11
        }
      ]
    },
    {
      "cell_type": "code",
      "metadata": {
        "id": "oLVDup4rCJ25",
        "colab_type": "code",
        "colab": {
          "base_uri": "https://localhost:8080/",
          "height": 68
        },
        "outputId": "53095b68-8f69-4da5-a8f6-c4b5fa2bbdaf"
      },
      "source": [
        "new_val=tf.random.normal(shape=(2,2))\n",
        "a.assign(new_val)\n"
      ],
      "execution_count": null,
      "outputs": [
        {
          "output_type": "execute_result",
          "data": {
            "text/plain": [
              "<tf.Variable 'UnreadVariable' shape=(2, 2) dtype=float32, numpy=\n",
              "array([[ 0.06717473, -0.6748119 ],\n",
              "       [ 0.2887461 ,  0.22329181]], dtype=float32)>"
            ]
          },
          "metadata": {
            "tags": []
          },
          "execution_count": 17
        }
      ]
    },
    {
      "cell_type": "code",
      "metadata": {
        "id": "VkihycdTDI9I",
        "colab_type": "code",
        "colab": {
          "base_uri": "https://localhost:8080/",
          "height": 68
        },
        "outputId": "1ec7d6a0-c601-49d9-af8e-e21e768f7806"
      },
      "source": [
        "for i in range(2):\n",
        "  for j in range(2):\n",
        "    assert a[i,j]==new_val[i,j]\n",
        "\n",
        "a"
      ],
      "execution_count": null,
      "outputs": [
        {
          "output_type": "execute_result",
          "data": {
            "text/plain": [
              "<tf.Variable 'Variable:0' shape=(2, 2) dtype=float32, numpy=\n",
              "array([[ 0.06717473, -0.6748119 ],\n",
              "       [ 0.2887461 ,  0.22329181]], dtype=float32)>"
            ]
          },
          "metadata": {
            "tags": []
          },
          "execution_count": 20
        }
      ]
    },
    {
      "cell_type": "code",
      "metadata": {
        "id": "r66KsRIfDqC5",
        "colab_type": "code",
        "colab": {
          "base_uri": "https://localhost:8080/",
          "height": 68
        },
        "outputId": "859acdb1-ef5e-4499-c1d0-0e1f6f7bf52c"
      },
      "source": [
        "add_val=tf.random.uniform(shape=(2,2))\n",
        "a.assign_add(add_val)\n",
        "a"
      ],
      "execution_count": null,
      "outputs": [
        {
          "output_type": "execute_result",
          "data": {
            "text/plain": [
              "<tf.Variable 'Variable:0' shape=(2, 2) dtype=float32, numpy=\n",
              "array([[ 0.740007  , -0.46507996],\n",
              "       [ 1.0969245 ,  0.962925  ]], dtype=float32)>"
            ]
          },
          "metadata": {
            "tags": []
          },
          "execution_count": 22
        }
      ]
    },
    {
      "cell_type": "code",
      "metadata": {
        "id": "jmrXSI6PD13m",
        "colab_type": "code",
        "colab": {
          "base_uri": "https://localhost:8080/",
          "height": 68
        },
        "outputId": "b599a3b1-ce36-495c-ad72-414abbce071e"
      },
      "source": [
        "for i in range(2):\n",
        "  for j in range(2):\n",
        "    assert a[i,j]==new_val[i,j]+add_val[i,j]\n",
        "\n",
        "a"
      ],
      "execution_count": null,
      "outputs": [
        {
          "output_type": "execute_result",
          "data": {
            "text/plain": [
              "<tf.Variable 'Variable:0' shape=(2, 2) dtype=float32, numpy=\n",
              "array([[ 0.740007  , -0.46507996],\n",
              "       [ 1.0969245 ,  0.962925  ]], dtype=float32)>"
            ]
          },
          "metadata": {
            "tags": []
          },
          "execution_count": 25
        }
      ]
    },
    {
      "cell_type": "code",
      "metadata": {
        "id": "I9v3CevlECxJ",
        "colab_type": "code",
        "colab": {}
      },
      "source": [
        ""
      ],
      "execution_count": null,
      "outputs": []
    },
    {
      "cell_type": "code",
      "metadata": {
        "id": "CeMmgG4vEfU5",
        "colab_type": "code",
        "colab": {
          "base_uri": "https://localhost:8080/",
          "height": 68
        },
        "outputId": "ab5e5094-01c4-4934-b7f3-965189fb78eb"
      },
      "source": [
        "a=tf.random.normal(shape=(2,2))\n",
        "b=tf.random.normal(shape=(2,2))\n",
        "c=a+b\n",
        "c"
      ],
      "execution_count": null,
      "outputs": [
        {
          "output_type": "execute_result",
          "data": {
            "text/plain": [
              "<tf.Tensor: shape=(2, 2), dtype=float32, numpy=\n",
              "array([[-0.2321918 , -3.2266402 ],\n",
              "       [-0.01701093, -0.4482197 ]], dtype=float32)>"
            ]
          },
          "metadata": {
            "tags": []
          },
          "execution_count": 26
        }
      ]
    },
    {
      "cell_type": "markdown",
      "metadata": {
        "id": "XsqJgW6GEx7e",
        "colab_type": "text"
      },
      "source": [
        "#Computing gradient"
      ]
    },
    {
      "cell_type": "code",
      "metadata": {
        "id": "ZOLYGPseEubB",
        "colab_type": "code",
        "colab": {
          "base_uri": "https://localhost:8080/",
          "height": 68
        },
        "outputId": "d4a3e4eb-3566-4636-f750-02571f3c0f18"
      },
      "source": [
        "a=tf.random.normal(shape=(2,2))\n",
        "b=tf.random.normal(shape=(2,2))\n",
        "\n",
        "with tf.GradientTape() as tape:\n",
        "  tape.watch(a)\n",
        "  c=tf.sqrt(tf.square(a)+tf.square(b))\n",
        "  dc_da=tape.gradient(c,a)\n",
        "  print(dc_da)\n",
        "\n"
      ],
      "execution_count": null,
      "outputs": [
        {
          "output_type": "stream",
          "text": [
            "tf.Tensor(\n",
            "[[ 0.8359754  -0.51363146]\n",
            " [ 0.53924215 -0.8819992 ]], shape=(2, 2), dtype=float32)\n"
          ],
          "name": "stdout"
        }
      ]
    },
    {
      "cell_type": "code",
      "metadata": {
        "id": "qph1_fEQFBf9",
        "colab_type": "code",
        "colab": {}
      },
      "source": [
        ""
      ],
      "execution_count": null,
      "outputs": []
    },
    {
      "cell_type": "markdown",
      "metadata": {
        "id": "zEsRedl-F3b3",
        "colab_type": "text"
      },
      "source": [
        "#Linear regression"
      ]
    },
    {
      "cell_type": "markdown",
      "metadata": {
        "id": "CDp1IhEuGFpc",
        "colab_type": "text"
      },
      "source": [
        "Y=Wx+B, W=weight, B= bais vector "
      ]
    },
    {
      "cell_type": "code",
      "metadata": {
        "id": "WFeJNHSAF7bq",
        "colab_type": "code",
        "colab": {}
      },
      "source": [
        "input_dim=2\n",
        "output_dim=1\n",
        "w=tf.Variable(tf.random.uniform(shape=(input_dim,output_dim)))\n",
        "b=tf.Variable(tf.zeros(shape=(output_dim,)))"
      ],
      "execution_count": null,
      "outputs": []
    },
    {
      "cell_type": "code",
      "metadata": {
        "id": "DZlrY2pAG0-5",
        "colab_type": "code",
        "colab": {
          "base_uri": "https://localhost:8080/",
          "height": 34
        },
        "outputId": "99be8d4a-f1dc-456f-d97c-5a413d27f186"
      },
      "source": [
        "b"
      ],
      "execution_count": null,
      "outputs": [
        {
          "output_type": "execute_result",
          "data": {
            "text/plain": [
              "<tf.Variable 'Variable:0' shape=(1,) dtype=float32, numpy=array([0.], dtype=float32)>"
            ]
          },
          "metadata": {
            "tags": []
          },
          "execution_count": 32
        }
      ]
    }
  ]
}