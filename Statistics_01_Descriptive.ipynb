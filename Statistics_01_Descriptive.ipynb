{
  "nbformat": 4,
  "nbformat_minor": 0,
  "metadata": {
    "colab": {
      "name": "Statistics 01_Descriptive.ipynb",
      "provenance": [],
      "authorship_tag": "ABX9TyM5H4CFlB2N+M/WYG+DGX3b",
      "include_colab_link": true
    },
    "kernelspec": {
      "name": "python3",
      "display_name": "Python 3"
    }
  },
  "cells": [
    {
      "cell_type": "markdown",
      "metadata": {
        "id": "view-in-github",
        "colab_type": "text"
      },
      "source": [
        "<a href=\"https://colab.research.google.com/github/vishnumurly/AppliedAI/blob/master/Statistics_01_Descriptive.ipynb\" target=\"_parent\"><img src=\"https://colab.research.google.com/assets/colab-badge.svg\" alt=\"Open In Colab\"/></a>"
      ]
    },
    {
      "cell_type": "code",
      "metadata": {
        "id": "uXx12CyK7OAf"
      },
      "source": [
        "import pandas as pd\r\n",
        "import numpy as np\r\n",
        "\r\n",
        "from scipy import stats\r\n",
        "from scipy.stats import norm\r\n",
        "from scipy.stats import randint"
      ],
      "execution_count": 18,
      "outputs": []
    },
    {
      "cell_type": "code",
      "metadata": {
        "id": "F30GbPa1E3-V"
      },
      "source": [
        "sale = [165, 182, 140, 193, 172, 168, 174, 124, 187, 204, 148, 175]"
      ],
      "execution_count": 19,
      "outputs": []
    },
    {
      "cell_type": "code",
      "metadata": {
        "colab": {
          "base_uri": "https://localhost:8080/"
        },
        "id": "7lOaxK8yE9ol",
        "outputId": "9fed9820-e75e-4139-d36c-9450647374cd"
      },
      "source": [
        "np.mean(sale)"
      ],
      "execution_count": 20,
      "outputs": [
        {
          "output_type": "execute_result",
          "data": {
            "text/plain": [
              "169.33333333333334"
            ]
          },
          "metadata": {
            "tags": []
          },
          "execution_count": 20
        }
      ]
    },
    {
      "cell_type": "code",
      "metadata": {
        "colab": {
          "base_uri": "https://localhost:8080/"
        },
        "id": "-Jto8TZrE_d7",
        "outputId": "a897d0df-f010-4e48-9cd8-b19f1288e234"
      },
      "source": [
        "np.median(sale)"
      ],
      "execution_count": 21,
      "outputs": [
        {
          "output_type": "execute_result",
          "data": {
            "text/plain": [
              "173.0"
            ]
          },
          "metadata": {
            "tags": []
          },
          "execution_count": 21
        }
      ]
    },
    {
      "cell_type": "code",
      "metadata": {
        "colab": {
          "base_uri": "https://localhost:8080/"
        },
        "id": "GeTaKarSFCk5",
        "outputId": "117d556b-84e3-414e-ef44-d170b91fe92e"
      },
      "source": [
        "np.std(sale)"
      ],
      "execution_count": 22,
      "outputs": [
        {
          "output_type": "execute_result",
          "data": {
            "text/plain": [
              "21.76898915634093"
            ]
          },
          "metadata": {
            "tags": []
          },
          "execution_count": 22
        }
      ]
    },
    {
      "cell_type": "code",
      "metadata": {
        "colab": {
          "base_uri": "https://localhost:8080/"
        },
        "id": "vySP8Bc9FMGl",
        "outputId": "7b95dfbe-e9ab-4c09-b819-1d2b3293c836"
      },
      "source": [
        "q1=np.quantile(a=sale,q=0.25)\r\n",
        "q3=np.quantile(a=sale,q=0.75)\r\n",
        "print('the range of middle 50% =',q3-q1)"
      ],
      "execution_count": 25,
      "outputs": [
        {
          "output_type": "stream",
          "text": [
            "the range of middle 50% = 22.5\n"
          ],
          "name": "stdout"
        }
      ]
    },
    {
      "cell_type": "code",
      "metadata": {
        "colab": {
          "base_uri": "https://localhost:8080/"
        },
        "id": "E8vJ6njaFb-7",
        "outputId": "a11b71fb-33c6-49df-e0c9-da1c17dedac6"
      },
      "source": [
        "stats.skew(sale)"
      ],
      "execution_count": 28,
      "outputs": [
        {
          "output_type": "execute_result",
          "data": {
            "text/plain": [
              "-0.5285526567587567"
            ]
          },
          "metadata": {
            "tags": []
          },
          "execution_count": 28
        }
      ]
    },
    {
      "cell_type": "code",
      "metadata": {
        "colab": {
          "base_uri": "https://localhost:8080/"
        },
        "id": "hHIlZzGRFwmf",
        "outputId": "29d16a5a-9cdb-462b-af29-fc94e6e9c46b"
      },
      "source": [
        "stats.kurtosis(sale)"
      ],
      "execution_count": 30,
      "outputs": [
        {
          "output_type": "execute_result",
          "data": {
            "text/plain": [
              "-0.38240010775017863"
            ]
          },
          "metadata": {
            "tags": []
          },
          "execution_count": 30
        }
      ]
    },
    {
      "cell_type": "code",
      "metadata": {
        "id": "bG42VV9EF1SX"
      },
      "source": [
        "wh = [7, 8.5, 8, 10, 9, 8, 8.5, 7.5, 9.5, 8.5, 8, 9]"
      ],
      "execution_count": 31,
      "outputs": []
    },
    {
      "cell_type": "code",
      "metadata": {
        "id": "tjsgHsfbGzGV"
      },
      "source": [
        "sale = pd.Series([165, 182, 140, 193, 172, 168, 174, 124, 187, 204, 148, 175])\r\n",
        "wh = pd.Series([7, 8.5, 8, 10, 9, 8, 8.5, 7.5, 9.5, 8.5, 8, 9])"
      ],
      "execution_count": 34,
      "outputs": []
    },
    {
      "cell_type": "code",
      "metadata": {
        "colab": {
          "base_uri": "https://localhost:8080/"
        },
        "id": "xhr0RiR0G3Ct",
        "outputId": "231a9c99-644c-403c-fc68-694330a5d3ea"
      },
      "source": [
        "wh.corr(sale)"
      ],
      "execution_count": 35,
      "outputs": [
        {
          "output_type": "execute_result",
          "data": {
            "text/plain": [
              "0.6447248082202144"
            ]
          },
          "metadata": {
            "tags": []
          },
          "execution_count": 35
        }
      ]
    },
    {
      "cell_type": "code",
      "metadata": {
        "id": "DOEby9akHHt2"
      },
      "source": [
        ""
      ],
      "execution_count": null,
      "outputs": []
    }
  ]
}