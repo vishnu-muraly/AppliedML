{
  "nbformat": 4,
  "nbformat_minor": 0,
  "metadata": {
    "colab": {
      "name": "102_Skearn.ipynb",
      "version": "0.3.2",
      "provenance": [],
      "include_colab_link": true
    },
    "kernelspec": {
      "name": "python3",
      "display_name": "Python 3"
    }
  },
  "cells": [
    {
      "cell_type": "markdown",
      "metadata": {
        "id": "view-in-github",
        "colab_type": "text"
      },
      "source": [
        "<a href=\"https://colab.research.google.com/github/vm1729/Openthink/blob/master/TextNLP/102_Skearn.ipynb\" target=\"_parent\"><img src=\"https://colab.research.google.com/assets/colab-badge.svg\" alt=\"Open In Colab\"/></a>"
      ]
    },
    {
      "cell_type": "markdown",
      "metadata": {
        "id": "GpYvO9qQM4WF",
        "colab_type": "text"
      },
      "source": [
        "https://stackoverflow.com/questions/8897593/how-to-compute-the-similarity-between-two-text-documents#24129170"
      ]
    },
    {
      "cell_type": "code",
      "metadata": {
        "id": "lY8pWvRPMifc",
        "colab_type": "code",
        "colab": {}
      },
      "source": [
        "d1=\"Method of fabricating an assembly comprising spraying a deposit forming material (1249) to at least a portion of the periphery of a glass pane unit, e.g. an insulating unit (1208). Masks (1237, 1237') are first applied to the outside surfaces of the panes (1220, 1222). The deposit (1249) may also cover the edge seal of the insulating glazing unit.\"\n",
        "d2=\"PROBLEM TO BE SOLVED: To provide a method and apparatus for producing a heat insulating glass unit.SOLUTION: According to the apparatus and the method using the apparatus, an adhesive is applied to an edge portion of the heat insulating glass unit by means of one or more nozzles, and a device having the nozzles for applying the adhesive bead to a side surface of a window sheet to be mounted in a frame or a sash, and a side surface of the heat insulating glass unit have separate side arms extending therefrom. The method for producing the heat insulating glass unit is available for applying an application agent-forming material to the edge of the window sheet of the heat insulating glass unit.\"\n",
        "d3=\"The present invention provides methods and apparatus for manufacturing insulating glass units. In apparatus and method of using the apparatus is provided by which adhesive is applied to the end regions of the insulating glass unit with one or more nozzles while a separate side arm extends from the device and alongside the insulating glass unit having a nozzle that delivers adhesive bead to the side of the pane to be adhered to the frame or sash. Methods are also provided for applying a deposit forming material to the periphery of the panes of an insulating glass unit.\"\n",
        "d4=\"A glass article which has a water-sheeting coating and a method of applying coatings to opposed sides of a substrate are described. In one embodiment, a water-sheeting coating (20) comprising silica is sputtered directly onto an exterior surface of the glass. The exterior face of this water-sheeting coating is substantially non-porous but has an irregular surface. This water-sheeting coating causes water applied to the coated surface to sheet, making the glass article easier to clean and helping the glass stay clean longer. In one method of the invention, interior and exterior surfaces of a glass sheet are cleaned. Thereafter, the interior surface of the sheet of glass is coated with a reflective coating by sputtering, in sequence, at least one dielectric layer, at least one metal layer, and at least one dielectric layer. The exterior surface of the glass is coated with a water-sheeting coating by sputtering silica directly onto the exterior surface of the sheet of glass. If so desired, both the interior surface and the exterior surface can be applied during the same pass through the same sputter coating apparatus while the glass maintains a constant orientation wherein the interior surface is positioned above the exterior surface.\"\n",
        "d5=\"Vladimir Putin was found to be riding a horse, again, without a shirt on while hunting deer. Vladimir Putin always seems so serious about things - even riding horses.\"\n",
        "all_documents = [d1,d2,d3,d4,d5]\n"
      ],
      "execution_count": 0,
      "outputs": []
    },
    {
      "cell_type": "markdown",
      "metadata": {
        "id": "2PlsX-euM2t8",
        "colab_type": "text"
      },
      "source": [
        ""
      ]
    },
    {
      "cell_type": "code",
      "metadata": {
        "id": "-gQgLD7fCkee",
        "colab_type": "code",
        "colab": {}
      },
      "source": [
        "import nltk, string\n",
        "from sklearn.feature_extraction.text import TfidfVectorizer"
      ],
      "execution_count": 0,
      "outputs": []
    },
    {
      "cell_type": "code",
      "metadata": {
        "id": "0LKUVq9cMkq3",
        "colab_type": "code",
        "colab": {
          "base_uri": "https://localhost:8080/",
          "height": 69
        },
        "outputId": "e772a227-7bfa-4250-e84c-0a4c406e0dd3"
      },
      "source": [
        "nltk.download('punkt')"
      ],
      "execution_count": 15,
      "outputs": [
        {
          "output_type": "stream",
          "text": [
            "[nltk_data] Downloading package punkt to /root/nltk_data...\n",
            "[nltk_data]   Unzipping tokenizers/punkt.zip.\n"
          ],
          "name": "stdout"
        },
        {
          "output_type": "execute_result",
          "data": {
            "text/plain": [
              "True"
            ]
          },
          "metadata": {
            "tags": []
          },
          "execution_count": 15
        }
      ]
    },
    {
      "cell_type": "code",
      "metadata": {
        "id": "kLe3w0hmMPZ8",
        "colab_type": "code",
        "colab": {}
      },
      "source": [
        "stemmer = nltk.stem.porter.PorterStemmer()\n",
        "remove_punctuation_map = dict((ord(char), None) for char in string.punctuation)"
      ],
      "execution_count": 0,
      "outputs": []
    },
    {
      "cell_type": "code",
      "metadata": {
        "id": "SHItlLyKMTeI",
        "colab_type": "code",
        "colab": {}
      },
      "source": [
        "def stem_tokens(tokens):\n",
        "    return [stemmer.stem(item) for item in tokens]\n"
      ],
      "execution_count": 0,
      "outputs": []
    },
    {
      "cell_type": "code",
      "metadata": {
        "id": "tTNhjNeyMVMY",
        "colab_type": "code",
        "colab": {}
      },
      "source": [
        "def normalize(text):\n",
        "    return stem_tokens(nltk.word_tokenize(text.lower().translate(remove_punctuation_map)))\n"
      ],
      "execution_count": 0,
      "outputs": []
    },
    {
      "cell_type": "code",
      "metadata": {
        "id": "2w8cjQhRMXEf",
        "colab_type": "code",
        "colab": {}
      },
      "source": [
        "vectorizer = TfidfVectorizer(tokenizer=normalize, stop_words='english')\n"
      ],
      "execution_count": 0,
      "outputs": []
    },
    {
      "cell_type": "code",
      "metadata": {
        "id": "GPn9NqMCMZG3",
        "colab_type": "code",
        "colab": {}
      },
      "source": [
        "def cosine_sim(text1, text2):\n",
        "    tfidf = vectorizer.fit_transform([text1, text2])\n",
        "    return ((tfidf * tfidf.T).A)[0,1]\n",
        "\n"
      ],
      "execution_count": 0,
      "outputs": []
    },
    {
      "cell_type": "code",
      "metadata": {
        "id": "gHEWqTyzMb57",
        "colab_type": "code",
        "colab": {
          "base_uri": "https://localhost:8080/",
          "height": 35
        },
        "outputId": "67f58ad4-5e1d-4a69-9246-79fc5a6c5daf"
      },
      "source": [
        "print (cosine_sim(d1, d2))\n"
      ],
      "execution_count": 19,
      "outputs": [
        {
          "output_type": "stream",
          "text": [
            "0.28383599828731665\n"
          ],
          "name": "stdout"
        }
      ]
    },
    {
      "cell_type": "markdown",
      "metadata": {
        "id": "cVIep-K_NETU",
        "colab_type": "text"
      },
      "source": [
        "Spacy"
      ]
    },
    {
      "cell_type": "code",
      "metadata": {
        "id": "IkYI24O0Mdbu",
        "colab_type": "code",
        "colab": {}
      },
      "source": [
        "import spacy\n",
        "nlp = spacy.load('en')\n"
      ],
      "execution_count": 0,
      "outputs": []
    },
    {
      "cell_type": "code",
      "metadata": {
        "id": "zI7H9_n-NhOr",
        "colab_type": "code",
        "colab": {}
      },
      "source": [
        "doc1 = nlp(d1)\n",
        "doc2 = nlp(d2)\n",
        "doc3 = nlp(d3)"
      ],
      "execution_count": 0,
      "outputs": []
    },
    {
      "cell_type": "code",
      "metadata": {
        "id": "TFkIMWG-NFmw",
        "colab_type": "code",
        "colab": {
          "base_uri": "https://localhost:8080/",
          "height": 89
        },
        "outputId": "2d7d4340-00e0-4f75-b884-c7d338b87f88"
      },
      "source": [
        "print (doc1.similarity(doc2))"
      ],
      "execution_count": 24,
      "outputs": [
        {
          "output_type": "stream",
          "text": [
            "0.8986755928715523\n"
          ],
          "name": "stdout"
        },
        {
          "output_type": "stream",
          "text": [
            "/usr/lib/python3.6/runpy.py:193: ModelsWarning: [W007] The model you're using has no word vectors loaded, so the result of the Doc.similarity method will be based on the tagger, parser and NER, which may not give useful similarity judgements. This may happen if you're using one of the small models, e.g. `en_core_web_sm`, which don't ship with word vectors and only use context-sensitive tensors. You can always add your own word vectors, or use one of the larger models instead if available.\n",
            "  \"__main__\", mod_spec)\n"
          ],
          "name": "stderr"
        }
      ]
    }
  ]
}