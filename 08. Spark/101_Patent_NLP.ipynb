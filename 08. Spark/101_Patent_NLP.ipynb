{
  "nbformat": 4,
  "nbformat_minor": 0,
  "metadata": {
    "colab": {
      "name": "101_Patent NLP.ipynb",
      "version": "0.3.2",
      "provenance": [],
      "include_colab_link": true
    },
    "kernelspec": {
      "name": "python3",
      "display_name": "Python 3"
    }
  },
  "cells": [
    {
      "cell_type": "markdown",
      "metadata": {
        "id": "view-in-github",
        "colab_type": "text"
      },
      "source": [
        "<a href=\"https://colab.research.google.com/github/vm1729/Openthink/blob/master/TextNLP/101_Patent_NLP.ipynb\" target=\"_parent\"><img src=\"https://colab.research.google.com/assets/colab-badge.svg\" alt=\"Open In Colab\"/></a>"
      ]
    },
    {
      "cell_type": "markdown",
      "metadata": {
        "id": "34qEBse49eWE",
        "colab_type": "text"
      },
      "source": [
        "# Similarity index\n",
        "\n"
      ]
    },
    {
      "cell_type": "code",
      "metadata": {
        "id": "JY6PXeJo9ZIn",
        "colab_type": "code",
        "colab": {}
      },
      "source": [
        "from __future__ import division\n",
        "import string\n",
        "import math\n",
        "\n",
        "tokenize = lambda doc: doc.lower().split(\" \")"
      ],
      "execution_count": 0,
      "outputs": []
    },
    {
      "cell_type": "code",
      "metadata": {
        "id": "ViOQLb0G9Jv9",
        "colab_type": "code",
        "colab": {}
      },
      "source": [
        "d1=\"Method of fabricatinginteh an assembly comprising spraying a deposit forming material (1249) to at least a portion of the periphery of a glass pane unit, e.g. an insulating unit (1208). Masks (1237, 1237') are first applied to the outside surfaces of the panes (1220, 1222). The deposit (1249) may also cover the edge seal of the insulating glazing unit.\"\n",
        "d2=\"PROBLEM TO BE SOLVED: To provide a method and apparatus for producing a heat insulating glass unit.SOLUTION: According to the apparatus and the method using the apparatus, an adhesive is applied to an edge portion of the heat insulating glass unit by means of one or more nozzles, and a device having the nozzles for applying the adhesive bead to a side surface of a window sheet to be mounted in a frame or a sash, and a side surface of the heat insulating glass unit have separate side arms extending therefrom. The method for producing the heat insulating glass unit is available for applying an application agent-forming material to the edge of the window sheet of the heat insulating glass unit.\"\n",
        "d3=\"The present articel is invention provides methods and apparatus for manufacturing insulating glass units. In apparatus and method of using the apparatus is provided by which adhesive is applied to the end regions of the insulating glass unit with one or more nozzles while a separate side arm extends from the device and alongside the insulating glass unit having a nozzle that delivers adhesive bead to the side of the pane to be adhered to the frame or sash. Methods are also provided for applying a deposit forming material to the periphery of the panes of an insulating glass unit.\"\n",
        "d4=\"A glass article which has a water-sheeting coating and a method of applying coatings to opposed sides of a substrate are described. In one embodiment, a water-sheeting coating (20) comprising silica is sputtered directly onto an exterior surface of the glass. The exterior face of this water-sheeting coating is substantially non-porous but has an irregular surface. This water-sheeting coating causes water applied to the coated surface to sheet, making the glass article easier to clean and helping the glass stay clean longer. In one method of the invention, interior and exterior surfaces of a glass sheet are cleaned. Thereafter, the interior surface of the sheet of glass is coated with a reflective coating by sputtering, in sequence, at least one dielectric layer, at least one metal layer, and at least one dielectric layer. The exterior surface of the glass is coated with a water-sheeting coating by sputtering silica directly onto the exterior surface of the sheet of glass. If so desired, both the interior surface and the exterior surface can be applied during the same pass through the same sputter coating apparatus while the glass maintains a constant orientation wherein the interior surface is positioned above the exterior surface.\"\n",
        "d5=\"Vladimir Putin was found to be riding a horse, again, without a shirt on while hunting deer. Vladimir Putin always seems so serious about things - even riding horses.\"\n",
        "all_documents = [d1,d2,d3,d4,d5]\n",
        "\n",
        "tokenized_documents = [tokenize(d) for d in all_documents] # tokenized docs\n",
        "all_tokens_set = set([item for sublist in tokenized_documents for item in sublist])\n"
      ],
      "execution_count": 0,
      "outputs": []
    },
    {
      "cell_type": "code",
      "metadata": {
        "id": "yoSZKrzx9j4H",
        "colab_type": "code",
        "colab": {}
      },
      "source": [
        "document_0 = \"China has a strong economy that is growing at a rapid pace. However politically it differs greatly from the US Economy.\"\n",
        "document_1 = \"At last, China seems serious about confronting an endemic problem: domestic violence and corruption.\"\n",
        "document_2 = \"Japan's prime minister, Shinzo Abe, is working towards healing the economic turmoil in his own country for his view on the future of his people.\"\n",
        "document_3 = \"Vladimir Putin is working hard to fix the economy in Russia as the Ruble has tumbled.\"\n",
        "document_4 = \"What's the future of Abenomics? We asked Shinzo Abe for his views\"\n",
        "document_5 = \"Obama has eased sanctions on Cuba while accelerating those against the Russian Economy, even as the Ruble's value falls almost daily.\"\n",
        "document_6 = \"Vladimir Putin was found to be riding a horse, again, without a shirt on while hunting deer. Vladimir Putin always seems so serious about things - even riding horses.\"\n",
        "\n",
        "all_documents = [document_0, document_1, document_2, document_3, document_4, document_5, document_6]\n",
        "\n",
        "tokenized_documents = [tokenize(d) for d in all_documents] # tokenized docs\n",
        "all_tokens_set = set([item for sublist in tokenized_documents for item in sublist])"
      ],
      "execution_count": 0,
      "outputs": []
    },
    {
      "cell_type": "code",
      "metadata": {
        "id": "z-X7qxgO9oXo",
        "colab_type": "code",
        "colab": {}
      },
      "source": [
        "def jaccard_similarity(query, document):\n",
        "    intersection = set(query).intersection(set(document))\n",
        "    union = set(query).union(set(document))\n",
        "    return len(intersection)/len(union)"
      ],
      "execution_count": 0,
      "outputs": []
    },
    {
      "cell_type": "code",
      "metadata": {
        "id": "LWwOwnI39qTN",
        "colab_type": "code",
        "outputId": "e956ef7d-b1a3-4482-96f1-6e57086a838d",
        "colab": {
          "base_uri": "https://localhost:8080/",
          "height": 35
        }
      },
      "source": [
        "# comparing document_2 and document_4\n",
        "jaccard_similarity(tokenized_documents[1],tokenized_documents[4])"
      ],
      "execution_count": 15,
      "outputs": [
        {
          "output_type": "execute_result",
          "data": {
            "text/plain": [
              "0.038461538461538464"
            ]
          },
          "metadata": {
            "tags": []
          },
          "execution_count": 15
        }
      ]
    },
    {
      "cell_type": "markdown",
      "metadata": {
        "id": "i_aiiFK1-FUg",
        "colab_type": "text"
      },
      "source": [
        "These documents have nothing in common. However they are rated as 8% relevant. This examples identifies the fundamental issues with Jaccard Similarity:\n",
        "\n",
        "Length is irrelevant. (bias towards longer documents).\n",
        "Words that appear in a lot of documents are weighted the same as those that appear in few. (bias towards longer documents as well as non-descriptive words)"
      ]
    },
    {
      "cell_type": "markdown",
      "metadata": {
        "id": "bbl1s_v9-Q_K",
        "colab_type": "text"
      },
      "source": [
        "#TF-IDF"
      ]
    },
    {
      "cell_type": "code",
      "metadata": {
        "id": "wK220k3u94uZ",
        "colab_type": "code",
        "colab": {}
      },
      "source": [
        "def term_frequency(term, tokenized_document):\n",
        "    return tokenized_document.count(term)"
      ],
      "execution_count": 0,
      "outputs": []
    },
    {
      "cell_type": "code",
      "metadata": {
        "id": "oggGf2zU-TwO",
        "colab_type": "code",
        "colab": {}
      },
      "source": [
        "def sublinear_term_frequency(term, tokenized_document):\n",
        "    return 1 + math.log(tokenized_document.count(term))\n",
        "\n",
        "def augmented_term_frequency(term, tokenized_document):\n",
        "    max_count = max([term_frequency(t, tokenized_document) for t in tokenized_document])\n",
        "    return (0.5 + ((0.5 * term_frequency(term, tokenized_document))/max_count))"
      ],
      "execution_count": 0,
      "outputs": []
    },
    {
      "cell_type": "code",
      "metadata": {
        "id": "fDdsz03y-gVP",
        "colab_type": "code",
        "colab": {}
      },
      "source": [
        "def inverse_document_frequencies(tokenized_documents):\n",
        "    idf_values = {}\n",
        "    all_tokens_set = set([item for sublist in tokenized_documents for item in sublist])\n",
        "    for tkn in all_tokens_set:\n",
        "        contains_token = map(lambda doc: tkn in doc, tokenized_documents)\n",
        "        idf_values[tkn] = 1 + math.log(len(tokenized_documents)/(sum(contains_token)))\n",
        "    return idf_values"
      ],
      "execution_count": 0,
      "outputs": []
    },
    {
      "cell_type": "code",
      "metadata": {
        "id": "R8b6dbYf-iPY",
        "colab_type": "code",
        "outputId": "adb10554-0a86-4987-e39c-7747eea79c19",
        "colab": {
          "base_uri": "https://localhost:8080/",
          "height": 35
        }
      },
      "source": [
        "idf_values = inverse_document_frequencies(tokenized_documents)\n",
        "print (idf_values['insulating'])\n",
        "# 2.94591014906\n",
        "#print (idf_values['the'])\n",
        "# 1.33647223662"
      ],
      "execution_count": 18,
      "outputs": [
        {
          "output_type": "stream",
          "text": [
            "1.5108256237659907\n"
          ],
          "name": "stdout"
        }
      ]
    },
    {
      "cell_type": "code",
      "metadata": {
        "id": "VHCFeV8O_EE9",
        "colab_type": "code",
        "colab": {}
      },
      "source": [
        "def tfidf(documents):\n",
        "    tokenized_documents = [tokenize(d) for d in documents]\n",
        "    idf = inverse_document_frequencies(tokenized_documents)\n",
        "    tfidf_documents = []\n",
        "    for document in tokenized_documents:\n",
        "        doc_tfidf = []\n",
        "        for term in idf.keys():\n",
        "            tf = sublinear_term_frequency(term, document)\n",
        "            doc_tfidf.append(tf * idf[term])\n",
        "        tfidf_documents.append(doc_tfidf)\n",
        "    return tfidf_documents"
      ],
      "execution_count": 0,
      "outputs": []
    },
    {
      "cell_type": "code",
      "metadata": {
        "id": "og2iyRlW_SKA",
        "colab_type": "code",
        "colab": {
          "base_uri": "https://localhost:8080/",
          "height": 124
        },
        "outputId": "075998d6-927e-4a6b-f6c4-0e0ee79c1c91"
      },
      "source": [
        "all_documents"
      ],
      "execution_count": 24,
      "outputs": [
        {
          "output_type": "execute_result",
          "data": {
            "text/plain": [
              "[\"Method of fabricating an assembly comprising spraying a deposit forming material (1249) to at least a portion of the periphery of a glass pane unit, e.g. an insulating unit (1208). Masks (1237, 1237') are first applied to the outside surfaces of the panes (1220, 1222). The deposit (1249) may also cover the edge seal of the insulating glazing unit.\",\n",
              " 'PROBLEM TO BE SOLVED: To provide a method and apparatus for producing a heat insulating glass unit.SOLUTION: According to the apparatus and the method using the apparatus, an adhesive is applied to an edge portion of the heat insulating glass unit by means of one or more nozzles, and a device having the nozzles for applying the adhesive bead to a side surface of a window sheet to be mounted in a frame or a sash, and a side surface of the heat insulating glass unit have separate side arms extending therefrom. The method for producing the heat insulating glass unit is available for applying an application agent-forming material to the edge of the window sheet of the heat insulating glass unit.',\n",
              " 'The present invention provides methods and apparatus for manufacturing insulating glass units. In apparatus and method of using the apparatus is provided by which adhesive is applied to the end regions of the insulating glass unit with one or more nozzles while a separate side arm extends from the device and alongside the insulating glass unit having a nozzle that delivers adhesive bead to the side of the pane to be adhered to the frame or sash. Methods are also provided for applying a deposit forming material to the periphery of the panes of an insulating glass unit.',\n",
              " 'A glass article which has a water-sheeting coating and a method of applying coatings to opposed sides of a substrate are described. In one embodiment, a water-sheeting coating (20) comprising silica is sputtered directly onto an exterior surface of the glass. The exterior face of this water-sheeting coating is substantially non-porous but has an irregular surface. This water-sheeting coating causes water applied to the coated surface to sheet, making the glass article easier to clean and helping the glass stay clean longer. In one method of the invention, interior and exterior surfaces of a glass sheet are cleaned. Thereafter, the interior surface of the sheet of glass is coated with a reflective coating by sputtering, in sequence, at least one dielectric layer, at least one metal layer, and at least one dielectric layer. The exterior surface of the glass is coated with a water-sheeting coating by sputtering silica directly onto the exterior surface of the sheet of glass. If so desired, both the interior surface and the exterior surface can be applied during the same pass through the same sputter coating apparatus while the glass maintains a constant orientation wherein the interior surface is positioned above the exterior surface.',\n",
              " 'Vladimir Putin was found to be riding a horse, again, without a shirt on while hunting deer. Vladimir Putin always seems so serious about things - even riding horses.']"
            ]
          },
          "metadata": {
            "tags": []
          },
          "execution_count": 24
        }
      ]
    },
    {
      "cell_type": "code",
      "metadata": {
        "id": "IyZkfVyJ_IdZ",
        "colab_type": "code",
        "outputId": "3748d1ac-0a49-4264-8432-905f4152ab51",
        "colab": {
          "base_uri": "https://localhost:8080/",
          "height": 329
        }
      },
      "source": [
        "tfidf_representation = tfidf(all_documents)\n",
        "#print (tfidf_representation[0]), document_0"
      ],
      "execution_count": 23,
      "outputs": [
        {
          "output_type": "error",
          "ename": "ValueError",
          "evalue": "ignored",
          "traceback": [
            "\u001b[0;31m---------------------------------------------------------------------------\u001b[0m",
            "\u001b[0;31mValueError\u001b[0m                                Traceback (most recent call last)",
            "\u001b[0;32m<ipython-input-23-063412e605f6>\u001b[0m in \u001b[0;36m<module>\u001b[0;34m()\u001b[0m\n\u001b[0;32m----> 1\u001b[0;31m \u001b[0mtfidf_representation\u001b[0m \u001b[0;34m=\u001b[0m \u001b[0mtfidf\u001b[0m\u001b[0;34m(\u001b[0m\u001b[0mall_documents\u001b[0m\u001b[0;34m)\u001b[0m\u001b[0;34m\u001b[0m\u001b[0;34m\u001b[0m\u001b[0m\n\u001b[0m\u001b[1;32m      2\u001b[0m \u001b[0;31m#print (tfidf_representation[0]), document_0\u001b[0m\u001b[0;34m\u001b[0m\u001b[0;34m\u001b[0m\u001b[0;34m\u001b[0m\u001b[0m\n",
            "\u001b[0;32m<ipython-input-22-28a6002ea493>\u001b[0m in \u001b[0;36mtfidf\u001b[0;34m(documents)\u001b[0m\n\u001b[1;32m      6\u001b[0m         \u001b[0mdoc_tfidf\u001b[0m \u001b[0;34m=\u001b[0m \u001b[0;34m[\u001b[0m\u001b[0;34m]\u001b[0m\u001b[0;34m\u001b[0m\u001b[0;34m\u001b[0m\u001b[0m\n\u001b[1;32m      7\u001b[0m         \u001b[0;32mfor\u001b[0m \u001b[0mterm\u001b[0m \u001b[0;32min\u001b[0m \u001b[0midf\u001b[0m\u001b[0;34m.\u001b[0m\u001b[0mkeys\u001b[0m\u001b[0;34m(\u001b[0m\u001b[0;34m)\u001b[0m\u001b[0;34m:\u001b[0m\u001b[0;34m\u001b[0m\u001b[0;34m\u001b[0m\u001b[0m\n\u001b[0;32m----> 8\u001b[0;31m             \u001b[0mtf\u001b[0m \u001b[0;34m=\u001b[0m \u001b[0msublinear_term_frequency\u001b[0m\u001b[0;34m(\u001b[0m\u001b[0mterm\u001b[0m\u001b[0;34m,\u001b[0m \u001b[0mdocument\u001b[0m\u001b[0;34m)\u001b[0m\u001b[0;34m\u001b[0m\u001b[0;34m\u001b[0m\u001b[0m\n\u001b[0m\u001b[1;32m      9\u001b[0m             \u001b[0mdoc_tfidf\u001b[0m\u001b[0;34m.\u001b[0m\u001b[0mappend\u001b[0m\u001b[0;34m(\u001b[0m\u001b[0mtf\u001b[0m \u001b[0;34m*\u001b[0m \u001b[0midf\u001b[0m\u001b[0;34m[\u001b[0m\u001b[0mterm\u001b[0m\u001b[0;34m]\u001b[0m\u001b[0;34m)\u001b[0m\u001b[0;34m\u001b[0m\u001b[0;34m\u001b[0m\u001b[0m\n\u001b[1;32m     10\u001b[0m         \u001b[0mtfidf_documents\u001b[0m\u001b[0;34m.\u001b[0m\u001b[0mappend\u001b[0m\u001b[0;34m(\u001b[0m\u001b[0mdoc_tfidf\u001b[0m\u001b[0;34m)\u001b[0m\u001b[0;34m\u001b[0m\u001b[0;34m\u001b[0m\u001b[0m\n",
            "\u001b[0;32m<ipython-input-20-22f505105497>\u001b[0m in \u001b[0;36msublinear_term_frequency\u001b[0;34m(term, tokenized_document)\u001b[0m\n\u001b[1;32m      1\u001b[0m \u001b[0;32mdef\u001b[0m \u001b[0msublinear_term_frequency\u001b[0m\u001b[0;34m(\u001b[0m\u001b[0mterm\u001b[0m\u001b[0;34m,\u001b[0m \u001b[0mtokenized_document\u001b[0m\u001b[0;34m)\u001b[0m\u001b[0;34m:\u001b[0m\u001b[0;34m\u001b[0m\u001b[0;34m\u001b[0m\u001b[0m\n\u001b[0;32m----> 2\u001b[0;31m     \u001b[0;32mreturn\u001b[0m \u001b[0;36m1\u001b[0m \u001b[0;34m+\u001b[0m \u001b[0mmath\u001b[0m\u001b[0;34m.\u001b[0m\u001b[0mlog\u001b[0m\u001b[0;34m(\u001b[0m\u001b[0mtokenized_document\u001b[0m\u001b[0;34m.\u001b[0m\u001b[0mcount\u001b[0m\u001b[0;34m(\u001b[0m\u001b[0mterm\u001b[0m\u001b[0;34m)\u001b[0m\u001b[0;34m)\u001b[0m\u001b[0;34m\u001b[0m\u001b[0;34m\u001b[0m\u001b[0m\n\u001b[0m\u001b[1;32m      3\u001b[0m \u001b[0;34m\u001b[0m\u001b[0m\n\u001b[1;32m      4\u001b[0m \u001b[0;32mdef\u001b[0m \u001b[0maugmented_term_frequency\u001b[0m\u001b[0;34m(\u001b[0m\u001b[0mterm\u001b[0m\u001b[0;34m,\u001b[0m \u001b[0mtokenized_document\u001b[0m\u001b[0;34m)\u001b[0m\u001b[0;34m:\u001b[0m\u001b[0;34m\u001b[0m\u001b[0;34m\u001b[0m\u001b[0m\n\u001b[1;32m      5\u001b[0m     \u001b[0mmax_count\u001b[0m \u001b[0;34m=\u001b[0m \u001b[0mmax\u001b[0m\u001b[0;34m(\u001b[0m\u001b[0;34m[\u001b[0m\u001b[0mterm_frequency\u001b[0m\u001b[0;34m(\u001b[0m\u001b[0mt\u001b[0m\u001b[0;34m,\u001b[0m \u001b[0mtokenized_document\u001b[0m\u001b[0;34m)\u001b[0m \u001b[0;32mfor\u001b[0m \u001b[0mt\u001b[0m \u001b[0;32min\u001b[0m \u001b[0mtokenized_document\u001b[0m\u001b[0;34m]\u001b[0m\u001b[0;34m)\u001b[0m\u001b[0;34m\u001b[0m\u001b[0;34m\u001b[0m\u001b[0m\n",
            "\u001b[0;31mValueError\u001b[0m: math domain error"
          ]
        }
      ]
    },
    {
      "cell_type": "markdown",
      "metadata": {
        "id": "jfr75qfN_j9i",
        "colab_type": "text"
      },
      "source": [
        "# Sklearn TF-IDF"
      ]
    },
    {
      "cell_type": "code",
      "metadata": {
        "id": "yC5Hcm-eDaY3",
        "colab_type": "code",
        "colab": {
          "base_uri": "https://localhost:8080/",
          "height": 124
        },
        "outputId": "32b0b54a-7bf1-41ae-f2a6-3b8814c39d07"
      },
      "source": [
        "all_documents"
      ],
      "execution_count": 29,
      "outputs": [
        {
          "output_type": "execute_result",
          "data": {
            "text/plain": [
              "[\"Method of fabricating an assembly comprising spraying a deposit forming material (1249) to at least a portion of the periphery of a glass pane unit, e.g. an insulating unit (1208). Masks (1237, 1237') are first applied to the outside surfaces of the panes (1220, 1222). The deposit (1249) may also cover the edge seal of the insulating glazing unit.\",\n",
              " 'PROBLEM TO BE SOLVED: To provide a method and apparatus for producing a heat insulating glass unit.SOLUTION: According to the apparatus and the method using the apparatus, an adhesive is applied to an edge portion of the heat insulating glass unit by means of one or more nozzles, and a device having the nozzles for applying the adhesive bead to a side surface of a window sheet to be mounted in a frame or a sash, and a side surface of the heat insulating glass unit have separate side arms extending therefrom. The method for producing the heat insulating glass unit is available for applying an application agent-forming material to the edge of the window sheet of the heat insulating glass unit.',\n",
              " 'The present invention provides methods and apparatus for manufacturing insulating glass units. In apparatus and method of using the apparatus is provided by which adhesive is applied to the end regions of the insulating glass unit with one or more nozzles while a separate side arm extends from the device and alongside the insulating glass unit having a nozzle that delivers adhesive bead to the side of the pane to be adhered to the frame or sash. Methods are also provided for applying a deposit forming material to the periphery of the panes of an insulating glass unit.',\n",
              " 'A glass article which has a water-sheeting coating and a method of applying coatings to opposed sides of a substrate are described. In one embodiment, a water-sheeting coating (20) comprising silica is sputtered directly onto an exterior surface of the glass. The exterior face of this water-sheeting coating is substantially non-porous but has an irregular surface. This water-sheeting coating causes water applied to the coated surface to sheet, making the glass article easier to clean and helping the glass stay clean longer. In one method of the invention, interior and exterior surfaces of a glass sheet are cleaned. Thereafter, the interior surface of the sheet of glass is coated with a reflective coating by sputtering, in sequence, at least one dielectric layer, at least one metal layer, and at least one dielectric layer. The exterior surface of the glass is coated with a water-sheeting coating by sputtering silica directly onto the exterior surface of the sheet of glass. If so desired, both the interior surface and the exterior surface can be applied during the same pass through the same sputter coating apparatus while the glass maintains a constant orientation wherein the interior surface is positioned above the exterior surface.',\n",
              " 'Vladimir Putin was found to be riding a horse, again, without a shirt on while hunting deer. Vladimir Putin always seems so serious about things - even riding horses.']"
            ]
          },
          "metadata": {
            "tags": []
          },
          "execution_count": 29
        }
      ]
    },
    {
      "cell_type": "code",
      "metadata": {
        "id": "9bcZzZtm_rVF",
        "colab_type": "code",
        "colab": {}
      },
      "source": [
        "from sklearn.feature_extraction.text import TfidfVectorizer\n",
        "vect = TfidfVectorizer(min_df=1, stop_words=\"english\") \n",
        "tfidf = vect.fit_transform(all_documents)\n",
        "pairwise_similarity = tfidf * tfidf.T "
      ],
      "execution_count": 0,
      "outputs": []
    },
    {
      "cell_type": "code",
      "metadata": {
        "id": "Nm7lG7iaDfs1",
        "colab_type": "code",
        "colab": {
          "base_uri": "https://localhost:8080/",
          "height": 104
        },
        "outputId": "de4b8816-22aa-4ee3-974b-fae8f3a0d21a"
      },
      "source": [
        "pairwise_similarity.toarray()"
      ],
      "execution_count": 34,
      "outputs": [
        {
          "output_type": "execute_result",
          "data": {
            "text/plain": [
              "array([[1.        , 0.28453253, 0.3219071 , 0.04962132, 0.        ],\n",
              "       [0.28453253, 1.        , 0.50359902, 0.19400144, 0.        ],\n",
              "       [0.3219071 , 0.50359902, 1.        , 0.11021245, 0.        ],\n",
              "       [0.04962132, 0.19400144, 0.11021245, 1.        , 0.        ],\n",
              "       [0.        , 0.        , 0.        , 0.        , 1.        ]])"
            ]
          },
          "metadata": {
            "tags": []
          },
          "execution_count": 34
        }
      ]
    },
    {
      "cell_type": "code",
      "metadata": {
        "id": "ubCwgVthEDSh",
        "colab_type": "code",
        "colab": {}
      },
      "source": [
        ""
      ],
      "execution_count": 0,
      "outputs": []
    }
  ]
}