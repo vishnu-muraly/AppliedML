{
  "nbformat": 4,
  "nbformat_minor": 0,
  "metadata": {
    "colab": {
      "name": "103_kmean.ipynb",
      "version": "0.3.2",
      "provenance": [],
      "include_colab_link": true
    },
    "kernelspec": {
      "name": "python3",
      "display_name": "Python 3"
    }
  },
  "cells": [
    {
      "cell_type": "markdown",
      "metadata": {
        "id": "view-in-github",
        "colab_type": "text"
      },
      "source": [
        "<a href=\"https://colab.research.google.com/github/vm1729/Openthink/blob/master/TextNLP/103_kmean.ipynb\" target=\"_parent\"><img src=\"https://colab.research.google.com/assets/colab-badge.svg\" alt=\"Open In Colab\"/></a>"
      ]
    },
    {
      "cell_type": "code",
      "metadata": {
        "id": "4lOvlIkeSzpq",
        "colab_type": "code",
        "colab": {}
      },
      "source": [
        "d1=\"Method of fabricating an assembly comprising spraying a deposit forming material (1249) to at least a portion of the periphery of a glass pane unit, e.g. an insulating unit (1208). Masks (1237, 1237') are first applied to the outside surfaces of the panes (1220, 1222). The deposit (1249) may also cover the edge seal of the insulating glazing unit.\"\n",
        "d2=\"PROBLEM TO BE SOLVED: To provide a method and apparatus for producing a heat insulating glass unit.SOLUTION: According to the apparatus and the method using the apparatus, an adhesive is applied to an edge portion of the heat insulating glass unit by means of one or more nozzles, and a device having the nozzles for applying the adhesive bead to a side surface of a window sheet to be mounted in a frame or a sash, and a side surface of the heat insulating glass unit have separate side arms extending therefrom. The method for producing the heat insulating glass unit is available for applying an application agent-forming material to the edge of the window sheet of the heat insulating glass unit.\"\n",
        "d3=\"The present invention provides methods and apparatus for manufacturing insulating glass units. In apparatus and method of using the apparatus is provided by which adhesive is applied to the end regions of the insulating glass unit with one or more nozzles while a separate side arm extends from the device and alongside the insulating glass unit having a nozzle that delivers adhesive bead to the side of the pane to be adhered to the frame or sash. Methods are also provided for applying a deposit forming material to the periphery of the panes of an insulating glass unit.\"\n",
        "d4=\"A glass article which has a water-sheeting coating and a method of applying coatings to opposed sides of a substrate are described. In one embodiment, a water-sheeting coating (20) comprising silica is sputtered directly onto an exterior surface of the glass. The exterior face of this water-sheeting coating is substantially non-porous but has an irregular surface. This water-sheeting coating causes water applied to the coated surface to sheet, making the glass article easier to clean and helping the glass stay clean longer. In one method of the invention, interior and exterior surfaces of a glass sheet are cleaned. Thereafter, the interior surface of the sheet of glass is coated with a reflective coating by sputtering, in sequence, at least one dielectric layer, at least one metal layer, and at least one dielectric layer. The exterior surface of the glass is coated with a water-sheeting coating by sputtering silica directly onto the exterior surface of the sheet of glass. If so desired, both the interior surface and the exterior surface can be applied during the same pass through the same sputter coating apparatus while the glass maintains a constant orientation wherein the interior surface is positioned above the exterior surface.\"\n",
        "#d5=\"Vladimir Putin was found to be riding a horse, again, without a shirt on while hunting deer. Vladimir Putin always seems so serious about things - even riding horses.\"\n",
        "messages = [d1,d2,d3,d4]\n"
      ],
      "execution_count": 0,
      "outputs": []
    },
    {
      "cell_type": "code",
      "metadata": {
        "id": "-g_5fiHwbpVr",
        "colab_type": "code",
        "colab": {}
      },
      "source": [
        "from sklearn.feature_extraction.text import TfidfVectorizer\n",
        "from sklearn.cluster import KMeans\n",
        "from sklearn.metrics import adjusted_rand_score\n",
        "\n",
        "documents = [\"Human machine interface for lab abc computer applications\",\n",
        "             \"A survey of user opinion of computer system response time\",\n",
        "             \"The EPS user interface management system\",\n",
        "             \"System and human system engineering testing of EPS\",\n",
        "             \"Relation of user perceived response time to error measurement\",\n",
        "             \"The generation of random binary unordered trees\",\n",
        "             \"The intersection graph of paths in trees\",\n",
        "             \"Graph minors IV Widths of trees and well quasi ordering\",\n",
        "             \"Graph minors A survey\"]"
      ],
      "execution_count": 0,
      "outputs": []
    },
    {
      "cell_type": "code",
      "metadata": {
        "id": "wEzuTNYUbrcz",
        "colab_type": "code",
        "colab": {}
      },
      "source": [
        "vectorizer = TfidfVectorizer(stop_words='english')\n",
        "X = vectorizer.fit_transform(messages)"
      ],
      "execution_count": 0,
      "outputs": []
    },
    {
      "cell_type": "code",
      "metadata": {
        "id": "3jKCtYyvbulO",
        "colab_type": "code",
        "colab": {
          "base_uri": "https://localhost:8080/",
          "height": 69
        },
        "outputId": "ce486638-5768-401e-ae81-c1e23116d4d4"
      },
      "source": [
        "true_k = 3\n",
        "model = KMeans(n_clusters=true_k, init='k-means++', max_iter=100, n_init=1)\n",
        "model.fit(X)"
      ],
      "execution_count": 58,
      "outputs": [
        {
          "output_type": "execute_result",
          "data": {
            "text/plain": [
              "KMeans(algorithm='auto', copy_x=True, init='k-means++', max_iter=100,\n",
              "       n_clusters=3, n_init=1, n_jobs=None, precompute_distances='auto',\n",
              "       random_state=None, tol=0.0001, verbose=0)"
            ]
          },
          "metadata": {
            "tags": []
          },
          "execution_count": 58
        }
      ]
    },
    {
      "cell_type": "code",
      "metadata": {
        "id": "zmhmSVLmz5HA",
        "colab_type": "code",
        "colab": {}
      },
      "source": [
        "sad"
      ],
      "execution_count": 0,
      "outputs": []
    },
    {
      "cell_type": "code",
      "metadata": {
        "id": "NTTdeKYGbzAw",
        "colab_type": "code",
        "colab": {
          "base_uri": "https://localhost:8080/",
          "height": 347
        },
        "outputId": "feecc34b-c012-4537-8559-d2e489c329e4"
      },
      "source": [
        "print(\"Top terms per cluster:\")\n",
        "order_centroids = model.cluster_centers_.argsort()[:, ::-1]\n",
        "terms = vectorizer.get_feature_names()\n",
        "for i in range(true_k):\n",
        "    print (\"Cluster %d:\" % i)\n",
        "    for ind in order_centroids[i, :5]:\n",
        "        print (' %s' % terms[ind])\n",
        "    "
      ],
      "execution_count": 60,
      "outputs": [
        {
          "output_type": "stream",
          "text": [
            "Top terms per cluster:\n",
            "Cluster 0:\n",
            " insulating\n",
            " unit\n",
            " glass\n",
            " heat\n",
            " apparatus\n",
            "Cluster 1:\n",
            " surface\n",
            " exterior\n",
            " coating\n",
            " water\n",
            " sheeting\n",
            "Cluster 2:\n",
            " 1237\n",
            " 1249\n",
            " unit\n",
            " deposit\n",
            " insulating\n"
          ],
          "name": "stdout"
        }
      ]
    },
    {
      "cell_type": "code",
      "metadata": {
        "id": "7fgP17xAb1Wt",
        "colab_type": "code",
        "colab": {}
      },
      "source": [
        ""
      ],
      "execution_count": 0,
      "outputs": []
    }
  ]
}